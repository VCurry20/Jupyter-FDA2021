{
 "cells": [
  {
   "cell_type": "markdown",
   "id": "4f4202af",
   "metadata": {},
   "source": [
    "# Week 8 \n",
    "\n",
    "***\n",
    "\n",
    "Links\n",
    "\n",
    "> https://statistics.laerd.com/spss-tutorials/one-way-anova-using-spss-statistics.php\n",
    "\n",
    "> https://github.com/ianmcloughlin/bar_histogram \n",
    "\n",
    "***\n",
    "\n",
    "Covering\n",
    "\n",
    "> Measurements\n",
    "\n",
    "> Bar Chart\n",
    "\n",
    "> Histrogram"
   ]
  },
  {
   "cell_type": "markdown",
   "id": "c08aad86",
   "metadata": {},
   "source": [
    "***\n",
    "\n",
    "Learning about SPSS - the terms and processes - but use them in Pandas, Python, Scipy ,stats model.\n",
    "\n",
    "Its a way of using the info / models to may outputs in python."
   ]
  },
  {
   "cell_type": "markdown",
   "id": "f126ab09",
   "metadata": {},
   "source": [
    "> https://www.ibm.com/docs/en/spss-modeler/SaaS?topic=node-measurement-levels\n",
    "\n",
    "Used originally and prodominately for measuring human data\n",
    "\n",
    "Catagorical data - sex / job / etc\n",
    "\n",
    "> Nominal - no weight - any job ( could be a-z but no ordering)\n",
    "\n",
    "> Ordinal - so there is a weight ( strongly agree vs agree )  -meaningful order but not a measurable distance between the options.\n",
    "\n",
    "\n",
    "Numerical variables\n",
    "\n",
    "scale - age \n",
    "\n",
    "> interval - degrees celcius \n",
    "\n",
    "> ratio - \n",
    "\n",
    "\n",
    "Level of Measurement\n",
    "\n",
    "> https://en.wikipedia.org/wiki/Level_of_measurement\n",
    "\n",
    "> https://psychology.okstate.edu/faculty/jgrice/psyc3214/Stevens_FourScales_1946.pdf"
   ]
  },
  {
   "cell_type": "markdown",
   "id": "13e00b0e",
   "metadata": {},
   "source": [
    "Additional\n",
    "\n",
    "> Sizes of different infinities - https://en.wikipedia.org/wiki/Aleph_number\n",
    "\n",
    "> Cantors Disgonal Argument - https://en.wikipedia.org/wiki/Cantor%27s_diagonal_argument "
   ]
  },
  {
   "cell_type": "code",
   "execution_count": null,
   "id": "8c17e288",
   "metadata": {},
   "outputs": [],
   "source": []
  },
  {
   "cell_type": "code",
   "execution_count": null,
   "id": "6d43be8a",
   "metadata": {},
   "outputs": [],
   "source": []
  },
  {
   "cell_type": "code",
   "execution_count": null,
   "id": "4765a843",
   "metadata": {},
   "outputs": [],
   "source": []
  },
  {
   "cell_type": "code",
   "execution_count": null,
   "id": "68bc8f1b",
   "metadata": {},
   "outputs": [],
   "source": []
  }
 ],
 "metadata": {
  "kernelspec": {
   "display_name": "Python 3",
   "language": "python",
   "name": "python3"
  },
  "language_info": {
   "codemirror_mode": {
    "name": "ipython",
    "version": 3
   },
   "file_extension": ".py",
   "mimetype": "text/x-python",
   "name": "python",
   "nbconvert_exporter": "python",
   "pygments_lexer": "ipython3",
   "version": "3.8.8"
  }
 },
 "nbformat": 4,
 "nbformat_minor": 5
}
