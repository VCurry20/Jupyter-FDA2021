{
 "cells": [
  {
   "cell_type": "markdown",
   "id": "4f4202af",
   "metadata": {},
   "source": [
    "# Week 8 \n",
    "\n",
    "***\n",
    "\n",
    "Links\n",
    "\n",
    "> https://statistics.laerd.com/spss-tutorials/one-way-anova-using-spss-statistics.php\n",
    "\n",
    "> https://github.com/ianmcloughlin/bar_histogram \n",
    "\n",
    "<br>\n",
    "\n",
    "> C:\\Users\\Veronica.Curry\\Documents\\Semester 2 File\\Fundamentals\\bar_histogram\n",
    "\n",
    "***\n",
    "\n",
    "Covering\n",
    "\n",
    "> Measurements\n",
    "\n",
    "> Bar Chart\n",
    "\n",
    "> Histrogram"
   ]
  },
  {
   "cell_type": "markdown",
   "id": "c08aad86",
   "metadata": {},
   "source": [
    "***\n",
    "\n",
    "Learning about SPSS - the terms and processes - but use them in Pandas, Python, Scipy ,stats model.\n",
    "\n",
    "Its a way of using the info / models to may outputs in python."
   ]
  },
  {
   "cell_type": "markdown",
   "id": "f126ab09",
   "metadata": {},
   "source": [
    "> https://www.ibm.com/docs/en/spss-modeler/SaaS?topic=node-measurement-levels\n",
    "\n",
    "Used originally and prodominately for measuring human data\n",
    "\n",
    "Catagorical data - sex / job / etc\n",
    "\n",
    "> Nominal - no weight - any job ( could be a-z but no ordering)\n",
    "\n",
    "> Ordinal - so there is a weight ( strongly agree vs agree )  -meaningful order but not a measurable distance between the options.\n",
    "\n",
    "\n",
    "Numerical variables\n",
    "\n",
    "scale - age \n",
    "\n",
    "> interval - degrees celcius \n",
    "\n",
    "> ratio - \n",
    "\n",
    "\n",
    "Level of Measurement\n",
    "\n",
    "> https://en.wikipedia.org/wiki/Level_of_measurement\n",
    "\n",
    "> https://psychology.okstate.edu/faculty/jgrice/psyc3214/Stevens_FourScales_1946.pdf"
   ]
  },
  {
   "cell_type": "markdown",
   "id": "13e00b0e",
   "metadata": {},
   "source": [
    "Additional\n",
    "\n",
    "> Sizes of different infinities - https://en.wikipedia.org/wiki/Aleph_number\n",
    "\n",
    "> Cantors Disgonal Argument - https://en.wikipedia.org/wiki/Cantor%27s_diagonal_argument "
   ]
  },
  {
   "cell_type": "markdown",
   "id": "d94dda0c",
   "metadata": {},
   "source": [
    "***\n",
    "\n",
    "<br>\n",
    "\n",
    "## Bar Charts & Histograms\n",
    "\n",
    "***\n"
   ]
  },
  {
   "cell_type": "markdown",
   "id": "bdff0c05",
   "metadata": {},
   "source": [
    "> https://matplotlib.org/stable/api/_as_gen/matplotlib.pyplot.bar.html\n",
    "\n",
    "> https://matplotlib.org/stable/api/_as_gen/matplotlib.pyplot.hist.html\n"
   ]
  },
  {
   "cell_type": "code",
   "execution_count": 1,
   "id": "29d63d98",
   "metadata": {},
   "outputs": [],
   "source": [
    "# For plotting.\n",
    "import matplotlib.pyplot as plt\n",
    "\n",
    "# For data frames.\n",
    "import pandas as pd\n",
    "\n",
    "# Numerical arrays.\n",
    "import numpy as np"
   ]
  },
  {
   "cell_type": "code",
   "execution_count": 2,
   "id": "68bc8f1b",
   "metadata": {},
   "outputs": [],
   "source": [
    "# Change the style of plots.\n",
    "plt.style.use('classic')\n",
    "\n",
    "# Change default figure size.\n",
    "plt.rcParams[\"figure.figsize\"] = (14, 8)\n",
    "\n",
    "\n",
    "# https://matplotlib.org/stable/gallery/style_sheets/style_sheets_reference.html\n",
    "\n",
    "# https://jakevdp.github.io/PythonDataScienceHandbook/04.11-settings-and-stylesheets.html\n",
    "\n",
    "# https://stackoverflow.com/questions/332289/how-do-you-change-the-size-of-figures-drawn-with-matplotlib"
   ]
  },
  {
   "cell_type": "markdown",
   "id": "d0a3c0b3",
   "metadata": {},
   "source": [
    "<br>\n",
    "\n",
    "## Bar Chart\n",
    "\n",
    "***"
   ]
  },
  {
   "cell_type": "code",
   "execution_count": 3,
   "id": "eef0116d",
   "metadata": {},
   "outputs": [
    {
     "data": {
      "text/html": [
       "<div>\n",
       "<style scoped>\n",
       "    .dataframe tbody tr th:only-of-type {\n",
       "        vertical-align: middle;\n",
       "    }\n",
       "\n",
       "    .dataframe tbody tr th {\n",
       "        vertical-align: top;\n",
       "    }\n",
       "\n",
       "    .dataframe thead th {\n",
       "        text-align: right;\n",
       "    }\n",
       "</style>\n",
       "<table border=\"1\" class=\"dataframe\">\n",
       "  <thead>\n",
       "    <tr style=\"text-align: right;\">\n",
       "      <th></th>\n",
       "      <th>Id</th>\n",
       "      <th>SepalLengthCm</th>\n",
       "      <th>SepalWidthCm</th>\n",
       "      <th>PetalLengthCm</th>\n",
       "      <th>PetalWidthCm</th>\n",
       "      <th>Species</th>\n",
       "    </tr>\n",
       "  </thead>\n",
       "  <tbody>\n",
       "    <tr>\n",
       "      <th>0</th>\n",
       "      <td>1</td>\n",
       "      <td>5.1</td>\n",
       "      <td>3.5</td>\n",
       "      <td>1.4</td>\n",
       "      <td>0.2</td>\n",
       "      <td>Iris-setosa</td>\n",
       "    </tr>\n",
       "    <tr>\n",
       "      <th>1</th>\n",
       "      <td>2</td>\n",
       "      <td>4.9</td>\n",
       "      <td>3.0</td>\n",
       "      <td>1.4</td>\n",
       "      <td>0.2</td>\n",
       "      <td>Iris-setosa</td>\n",
       "    </tr>\n",
       "    <tr>\n",
       "      <th>2</th>\n",
       "      <td>3</td>\n",
       "      <td>4.7</td>\n",
       "      <td>3.2</td>\n",
       "      <td>1.3</td>\n",
       "      <td>0.2</td>\n",
       "      <td>Iris-setosa</td>\n",
       "    </tr>\n",
       "    <tr>\n",
       "      <th>3</th>\n",
       "      <td>4</td>\n",
       "      <td>4.6</td>\n",
       "      <td>3.1</td>\n",
       "      <td>1.5</td>\n",
       "      <td>0.2</td>\n",
       "      <td>Iris-setosa</td>\n",
       "    </tr>\n",
       "    <tr>\n",
       "      <th>4</th>\n",
       "      <td>5</td>\n",
       "      <td>5.0</td>\n",
       "      <td>3.6</td>\n",
       "      <td>1.4</td>\n",
       "      <td>0.2</td>\n",
       "      <td>Iris-setosa</td>\n",
       "    </tr>\n",
       "    <tr>\n",
       "      <th>...</th>\n",
       "      <td>...</td>\n",
       "      <td>...</td>\n",
       "      <td>...</td>\n",
       "      <td>...</td>\n",
       "      <td>...</td>\n",
       "      <td>...</td>\n",
       "    </tr>\n",
       "    <tr>\n",
       "      <th>145</th>\n",
       "      <td>146</td>\n",
       "      <td>6.7</td>\n",
       "      <td>3.0</td>\n",
       "      <td>5.2</td>\n",
       "      <td>2.3</td>\n",
       "      <td>Iris-virginica</td>\n",
       "    </tr>\n",
       "    <tr>\n",
       "      <th>146</th>\n",
       "      <td>147</td>\n",
       "      <td>6.3</td>\n",
       "      <td>2.5</td>\n",
       "      <td>5.0</td>\n",
       "      <td>1.9</td>\n",
       "      <td>Iris-virginica</td>\n",
       "    </tr>\n",
       "    <tr>\n",
       "      <th>147</th>\n",
       "      <td>148</td>\n",
       "      <td>6.5</td>\n",
       "      <td>3.0</td>\n",
       "      <td>5.2</td>\n",
       "      <td>2.0</td>\n",
       "      <td>Iris-virginica</td>\n",
       "    </tr>\n",
       "    <tr>\n",
       "      <th>148</th>\n",
       "      <td>149</td>\n",
       "      <td>6.2</td>\n",
       "      <td>3.4</td>\n",
       "      <td>5.4</td>\n",
       "      <td>2.3</td>\n",
       "      <td>Iris-virginica</td>\n",
       "    </tr>\n",
       "    <tr>\n",
       "      <th>149</th>\n",
       "      <td>150</td>\n",
       "      <td>5.9</td>\n",
       "      <td>3.0</td>\n",
       "      <td>5.1</td>\n",
       "      <td>1.8</td>\n",
       "      <td>Iris-virginica</td>\n",
       "    </tr>\n",
       "  </tbody>\n",
       "</table>\n",
       "<p>150 rows × 6 columns</p>\n",
       "</div>"
      ],
      "text/plain": [
       "      Id  SepalLengthCm  SepalWidthCm  PetalLengthCm  PetalWidthCm  \\\n",
       "0      1            5.1           3.5            1.4           0.2   \n",
       "1      2            4.9           3.0            1.4           0.2   \n",
       "2      3            4.7           3.2            1.3           0.2   \n",
       "3      4            4.6           3.1            1.5           0.2   \n",
       "4      5            5.0           3.6            1.4           0.2   \n",
       "..   ...            ...           ...            ...           ...   \n",
       "145  146            6.7           3.0            5.2           2.3   \n",
       "146  147            6.3           2.5            5.0           1.9   \n",
       "147  148            6.5           3.0            5.2           2.0   \n",
       "148  149            6.2           3.4            5.4           2.3   \n",
       "149  150            5.9           3.0            5.1           1.8   \n",
       "\n",
       "            Species  \n",
       "0       Iris-setosa  \n",
       "1       Iris-setosa  \n",
       "2       Iris-setosa  \n",
       "3       Iris-setosa  \n",
       "4       Iris-setosa  \n",
       "..              ...  \n",
       "145  Iris-virginica  \n",
       "146  Iris-virginica  \n",
       "147  Iris-virginica  \n",
       "148  Iris-virginica  \n",
       "149  Iris-virginica  \n",
       "\n",
       "[150 rows x 6 columns]"
      ]
     },
     "execution_count": 3,
     "metadata": {},
     "output_type": "execute_result"
    }
   ],
   "source": [
    "df =pd.read_csv('https://raw.githubusercontent.com/VCurry20/pands-project/main/kaggleIrisSet.csv')\n",
    "df"
   ]
  },
  {
   "attachments": {
    "BarDocs.PNG": {
     "image/png": "[encoded data removed]"
    }
   },
   "cell_type": "markdown",
   "id": "4baf0aa6",
   "metadata": {},
   "source": [
    "![BarDocs.PNG](attachment:BarDocs.PNG)"
   ]
  },
  {
   "cell_type": "markdown",
   "id": "bf11ef47",
   "metadata": {},
   "source": [
    "Bar Charts are for Catagorical Data - not numerical data.\n",
    "\n",
    "Doc details:\n",
    "\n",
    "Two required paraments - x & Height\n",
    "\n",
    "x = location on x axis ( yaxis on barh)\n",
    "\n",
    "Height = location on a Y axis\n",
    "\n",
    "Align=centre - bar will be centered at the x number ( can change to edge)\n",
    "\n",
    "(I know they are required because they do not have = after them. Any parameter with an = after them means that the listed detail is the default. You need to change this if required.)\n",
    "\n",
    "\\* = not sure what this is for\n",
    "\n",
    "Data = none - this means\n",
    "\n",
    "\\**kwargs - this is will take other arguments and pass them on to other functions. Face Color / line color for example\n"
   ]
  },
  {
   "cell_type": "code",
   "execution_count": 4,
   "id": "d0758ba5",
   "metadata": {},
   "outputs": [
    {
     "data": {
      "text/plain": [
       "Iris-virginica     50\n",
       "Iris-setosa        50\n",
       "Iris-versicolor    50\n",
       "Name: Species, dtype: int64"
      ]
     },
     "execution_count": 4,
     "metadata": {},
     "output_type": "execute_result"
    }
   ],
   "source": [
    "# getting the value counts to plot these \n",
    "\n",
    "# https://cmdlinetips.com/2018/02/how-to-get-frequency-counts-of-a-column-in-pandas-dataframe/\n",
    "\n",
    "counts = df['Species'].value_counts()\n",
    "\n",
    "counts    "
   ]
  },
  {
   "cell_type": "code",
   "execution_count": 5,
   "id": "f9ba19f6",
   "metadata": {},
   "outputs": [
    {
     "name": "stdout",
     "output_type": "stream",
     "text": [
      "50\n",
      "50\n",
      "50\n"
     ]
    }
   ],
   "source": [
    "for i in counts:\n",
    "    print(i)"
   ]
  },
  {
   "cell_type": "code",
   "execution_count": 6,
   "id": "26af2feb",
   "metadata": {},
   "outputs": [
    {
     "name": "stdout",
     "output_type": "stream",
     "text": [
      "Iris-virginica\n",
      "Iris-setosa\n",
      "Iris-versicolor\n"
     ]
    }
   ],
   "source": [
    "for i in counts.index:\n",
    "    print(i)"
   ]
  },
  {
   "cell_type": "code",
   "execution_count": 7,
   "id": "42a599f0",
   "metadata": {},
   "outputs": [
    {
     "data": {
      "text/plain": [
       "Index(['Iris-virginica', 'Iris-setosa', 'Iris-versicolor'], dtype='object')"
      ]
     },
     "execution_count": 7,
     "metadata": {},
     "output_type": "execute_result"
    }
   ],
   "source": [
    "# Extract the categories.\n",
    "categories = counts.index\n",
    "\n",
    "categories\n",
    "\n",
    "# index / list - with three different values"
   ]
  },
  {
   "cell_type": "code",
   "execution_count": 8,
   "id": "c584c6a9",
   "metadata": {},
   "outputs": [
    {
     "data": {
      "text/plain": [
       "<BarContainer object of 3 artists>"
      ]
     },
     "execution_count": 8,
     "metadata": {},
     "output_type": "execute_result"
    },
    {
     "data": {
      "image/png": "[encoded data removed]",
      "text/plain": [
       "<Figure size 1120x640 with 1 Axes>"
      ]
     },
     "metadata": {},
     "output_type": "display_data"
    }
   ],
   "source": [
    "# Create the bar chart.\n",
    "\n",
    "plt.bar(categories, counts, width=0.6)\n",
    "\n",
    "# this is not very interest - 50 of each measurements of each type of iris"
   ]
  },
  {
   "cell_type": "code",
   "execution_count": 9,
   "id": "3b3bf262",
   "metadata": {},
   "outputs": [
    {
     "data": {
      "text/plain": [
       "array([0.2, 0.2, 0.2, 0.2, 0.2, 0.4, 0.3, 0.2, 0.2, 0.1, 0.2, 0.2, 0.1,\n",
       "       0.1, 0.2, 0.4, 0.4, 0.3, 0.3, 0.3, 0.2, 0.4, 0.2, 0.5, 0.2, 0.2,\n",
       "       0.4, 0.2, 0.2, 0.2, 0.2, 0.4, 0.1, 0.2, 0.1, 0.2, 0.2, 0.1, 0.2,\n",
       "       0.2, 0.3, 0.3, 0.2, 0.6, 0.4, 0.3, 0.2, 0.2, 0.2, 0.2, 1.4, 1.5,\n",
       "       1.5, 1.3, 1.5, 1.3, 1.6, 1. , 1.3, 1.4, 1. , 1.5, 1. , 1.4, 1.3,\n",
       "       1.4, 1.5, 1. , 1.5, 1.1, 1.8, 1.3, 1.5, 1.2, 1.3, 1.4, 1.4, 1.7,\n",
       "       1.5, 1. , 1.1, 1. , 1.2, 1.6, 1.5, 1.6, 1.5, 1.3, 1.3, 1.3, 1.2,\n",
       "       1.4, 1.2, 1. , 1.3, 1.2, 1.3, 1.3, 1.1, 1.3, 2.5, 1.9, 2.1, 1.8,\n",
       "       2.2, 2.1, 1.7, 1.8, 1.8, 2.5, 2. , 1.9, 2.1, 2. , 2.4, 2.3, 1.8,\n",
       "       2.2, 2.3, 1.5, 2.3, 2. , 2. , 1.8, 2.1, 1.8, 1.8, 1.8, 2.1, 1.6,\n",
       "       1.9, 2. , 2.2, 1.5, 1.4, 2.3, 2.4, 1.8, 1.8, 2.1, 2.4, 2.3, 1.9,\n",
       "       2.3, 2.5, 2.3, 1.9, 2. , 2.3, 1.8])"
      ]
     },
     "execution_count": 9,
     "metadata": {},
     "output_type": "execute_result"
    }
   ],
   "source": [
    "# Question - would it be ok to plot a bar chart of petal width - they are numerical values\n",
    "\n",
    "df['PetalWidthCm'].to_numpy()   # all petal width data"
   ]
  },
  {
   "cell_type": "code",
   "execution_count": 10,
   "id": "7552e68b",
   "metadata": {},
   "outputs": [
    {
     "data": {
      "text/plain": [
       "array([0.2, 0.2, 0.2, 0.2, 0.2, 0.4, 0.3, 0.2, 0.2, 0.1, 0.2, 0.2, 0.1,\n",
       "       0.1, 0.2, 0.4, 0.4, 0.3, 0.3, 0.3, 0.2, 0.4, 0.2, 0.5, 0.2, 0.2,\n",
       "       0.4, 0.2, 0.2, 0.2, 0.2, 0.4, 0.1, 0.2, 0.1, 0.2, 0.2, 0.1, 0.2,\n",
       "       0.2, 0.3, 0.3, 0.2, 0.6, 0.4, 0.3, 0.2, 0.2, 0.2, 0.2])"
      ]
     },
     "execution_count": 10,
     "metadata": {},
     "output_type": "execute_result"
    }
   ],
   "source": [
    "df_setosa =df[df['Species']=='Iris-setosa']\n",
    "df_setosa['PetalWidthCm'].to_numpy()         # setosa petal width\n",
    "\n",
    "\n",
    "\n",
    "# if i limit myself to these data is a bar chart ok to use?\n",
    "# how many had 0.2 values?\n",
    "\n",
    "# lets see"
   ]
  },
  {
   "cell_type": "code",
   "execution_count": 11,
   "id": "597c4dd8",
   "metadata": {},
   "outputs": [
    {
     "data": {
      "text/html": [
       "<div>\n",
       "<style scoped>\n",
       "    .dataframe tbody tr th:only-of-type {\n",
       "        vertical-align: middle;\n",
       "    }\n",
       "\n",
       "    .dataframe tbody tr th {\n",
       "        vertical-align: top;\n",
       "    }\n",
       "\n",
       "    .dataframe thead th {\n",
       "        text-align: right;\n",
       "    }\n",
       "</style>\n",
       "<table border=\"1\" class=\"dataframe\">\n",
       "  <thead>\n",
       "    <tr style=\"text-align: right;\">\n",
       "      <th></th>\n",
       "      <th>Id</th>\n",
       "      <th>SepalLengthCm</th>\n",
       "      <th>SepalWidthCm</th>\n",
       "      <th>PetalLengthCm</th>\n",
       "      <th>PetalWidthCm</th>\n",
       "      <th>Species</th>\n",
       "    </tr>\n",
       "  </thead>\n",
       "  <tbody>\n",
       "    <tr>\n",
       "      <th>0</th>\n",
       "      <td>1</td>\n",
       "      <td>5.1</td>\n",
       "      <td>3.5</td>\n",
       "      <td>1.4</td>\n",
       "      <td>0.2</td>\n",
       "      <td>Iris-setosa</td>\n",
       "    </tr>\n",
       "    <tr>\n",
       "      <th>1</th>\n",
       "      <td>2</td>\n",
       "      <td>4.9</td>\n",
       "      <td>3.0</td>\n",
       "      <td>1.4</td>\n",
       "      <td>0.2</td>\n",
       "      <td>Iris-setosa</td>\n",
       "    </tr>\n",
       "    <tr>\n",
       "      <th>2</th>\n",
       "      <td>3</td>\n",
       "      <td>4.7</td>\n",
       "      <td>3.2</td>\n",
       "      <td>1.3</td>\n",
       "      <td>0.2</td>\n",
       "      <td>Iris-setosa</td>\n",
       "    </tr>\n",
       "    <tr>\n",
       "      <th>3</th>\n",
       "      <td>4</td>\n",
       "      <td>4.6</td>\n",
       "      <td>3.1</td>\n",
       "      <td>1.5</td>\n",
       "      <td>0.2</td>\n",
       "      <td>Iris-setosa</td>\n",
       "    </tr>\n",
       "    <tr>\n",
       "      <th>4</th>\n",
       "      <td>5</td>\n",
       "      <td>5.0</td>\n",
       "      <td>3.6</td>\n",
       "      <td>1.4</td>\n",
       "      <td>0.2</td>\n",
       "      <td>Iris-setosa</td>\n",
       "    </tr>\n",
       "    <tr>\n",
       "      <th>5</th>\n",
       "      <td>6</td>\n",
       "      <td>5.4</td>\n",
       "      <td>3.9</td>\n",
       "      <td>1.7</td>\n",
       "      <td>0.4</td>\n",
       "      <td>Iris-setosa</td>\n",
       "    </tr>\n",
       "    <tr>\n",
       "      <th>6</th>\n",
       "      <td>7</td>\n",
       "      <td>4.6</td>\n",
       "      <td>3.4</td>\n",
       "      <td>1.4</td>\n",
       "      <td>0.3</td>\n",
       "      <td>Iris-setosa</td>\n",
       "    </tr>\n",
       "    <tr>\n",
       "      <th>7</th>\n",
       "      <td>8</td>\n",
       "      <td>5.0</td>\n",
       "      <td>3.4</td>\n",
       "      <td>1.5</td>\n",
       "      <td>0.2</td>\n",
       "      <td>Iris-setosa</td>\n",
       "    </tr>\n",
       "    <tr>\n",
       "      <th>8</th>\n",
       "      <td>9</td>\n",
       "      <td>4.4</td>\n",
       "      <td>2.9</td>\n",
       "      <td>1.4</td>\n",
       "      <td>0.2</td>\n",
       "      <td>Iris-setosa</td>\n",
       "    </tr>\n",
       "    <tr>\n",
       "      <th>9</th>\n",
       "      <td>10</td>\n",
       "      <td>4.9</td>\n",
       "      <td>3.1</td>\n",
       "      <td>1.5</td>\n",
       "      <td>0.1</td>\n",
       "      <td>Iris-setosa</td>\n",
       "    </tr>\n",
       "    <tr>\n",
       "      <th>10</th>\n",
       "      <td>11</td>\n",
       "      <td>5.4</td>\n",
       "      <td>3.7</td>\n",
       "      <td>1.5</td>\n",
       "      <td>0.2</td>\n",
       "      <td>Iris-setosa</td>\n",
       "    </tr>\n",
       "    <tr>\n",
       "      <th>11</th>\n",
       "      <td>12</td>\n",
       "      <td>4.8</td>\n",
       "      <td>3.4</td>\n",
       "      <td>1.6</td>\n",
       "      <td>0.2</td>\n",
       "      <td>Iris-setosa</td>\n",
       "    </tr>\n",
       "    <tr>\n",
       "      <th>12</th>\n",
       "      <td>13</td>\n",
       "      <td>4.8</td>\n",
       "      <td>3.0</td>\n",
       "      <td>1.4</td>\n",
       "      <td>0.1</td>\n",
       "      <td>Iris-setosa</td>\n",
       "    </tr>\n",
       "    <tr>\n",
       "      <th>13</th>\n",
       "      <td>14</td>\n",
       "      <td>4.3</td>\n",
       "      <td>3.0</td>\n",
       "      <td>1.1</td>\n",
       "      <td>0.1</td>\n",
       "      <td>Iris-setosa</td>\n",
       "    </tr>\n",
       "    <tr>\n",
       "      <th>14</th>\n",
       "      <td>15</td>\n",
       "      <td>5.8</td>\n",
       "      <td>4.0</td>\n",
       "      <td>1.2</td>\n",
       "      <td>0.2</td>\n",
       "      <td>Iris-setosa</td>\n",
       "    </tr>\n",
       "    <tr>\n",
       "      <th>15</th>\n",
       "      <td>16</td>\n",
       "      <td>5.7</td>\n",
       "      <td>4.4</td>\n",
       "      <td>1.5</td>\n",
       "      <td>0.4</td>\n",
       "      <td>Iris-setosa</td>\n",
       "    </tr>\n",
       "    <tr>\n",
       "      <th>16</th>\n",
       "      <td>17</td>\n",
       "      <td>5.4</td>\n",
       "      <td>3.9</td>\n",
       "      <td>1.3</td>\n",
       "      <td>0.4</td>\n",
       "      <td>Iris-setosa</td>\n",
       "    </tr>\n",
       "    <tr>\n",
       "      <th>17</th>\n",
       "      <td>18</td>\n",
       "      <td>5.1</td>\n",
       "      <td>3.5</td>\n",
       "      <td>1.4</td>\n",
       "      <td>0.3</td>\n",
       "      <td>Iris-setosa</td>\n",
       "    </tr>\n",
       "    <tr>\n",
       "      <th>18</th>\n",
       "      <td>19</td>\n",
       "      <td>5.7</td>\n",
       "      <td>3.8</td>\n",
       "      <td>1.7</td>\n",
       "      <td>0.3</td>\n",
       "      <td>Iris-setosa</td>\n",
       "    </tr>\n",
       "    <tr>\n",
       "      <th>19</th>\n",
       "      <td>20</td>\n",
       "      <td>5.1</td>\n",
       "      <td>3.8</td>\n",
       "      <td>1.5</td>\n",
       "      <td>0.3</td>\n",
       "      <td>Iris-setosa</td>\n",
       "    </tr>\n",
       "    <tr>\n",
       "      <th>20</th>\n",
       "      <td>21</td>\n",
       "      <td>5.4</td>\n",
       "      <td>3.4</td>\n",
       "      <td>1.7</td>\n",
       "      <td>0.2</td>\n",
       "      <td>Iris-setosa</td>\n",
       "    </tr>\n",
       "    <tr>\n",
       "      <th>21</th>\n",
       "      <td>22</td>\n",
       "      <td>5.1</td>\n",
       "      <td>3.7</td>\n",
       "      <td>1.5</td>\n",
       "      <td>0.4</td>\n",
       "      <td>Iris-setosa</td>\n",
       "    </tr>\n",
       "    <tr>\n",
       "      <th>22</th>\n",
       "      <td>23</td>\n",
       "      <td>4.6</td>\n",
       "      <td>3.6</td>\n",
       "      <td>1.0</td>\n",
       "      <td>0.2</td>\n",
       "      <td>Iris-setosa</td>\n",
       "    </tr>\n",
       "    <tr>\n",
       "      <th>23</th>\n",
       "      <td>24</td>\n",
       "      <td>5.1</td>\n",
       "      <td>3.3</td>\n",
       "      <td>1.7</td>\n",
       "      <td>0.5</td>\n",
       "      <td>Iris-setosa</td>\n",
       "    </tr>\n",
       "    <tr>\n",
       "      <th>24</th>\n",
       "      <td>25</td>\n",
       "      <td>4.8</td>\n",
       "      <td>3.4</td>\n",
       "      <td>1.9</td>\n",
       "      <td>0.2</td>\n",
       "      <td>Iris-setosa</td>\n",
       "    </tr>\n",
       "    <tr>\n",
       "      <th>25</th>\n",
       "      <td>26</td>\n",
       "      <td>5.0</td>\n",
       "      <td>3.0</td>\n",
       "      <td>1.6</td>\n",
       "      <td>0.2</td>\n",
       "      <td>Iris-setosa</td>\n",
       "    </tr>\n",
       "    <tr>\n",
       "      <th>26</th>\n",
       "      <td>27</td>\n",
       "      <td>5.0</td>\n",
       "      <td>3.4</td>\n",
       "      <td>1.6</td>\n",
       "      <td>0.4</td>\n",
       "      <td>Iris-setosa</td>\n",
       "    </tr>\n",
       "    <tr>\n",
       "      <th>27</th>\n",
       "      <td>28</td>\n",
       "      <td>5.2</td>\n",
       "      <td>3.5</td>\n",
       "      <td>1.5</td>\n",
       "      <td>0.2</td>\n",
       "      <td>Iris-setosa</td>\n",
       "    </tr>\n",
       "    <tr>\n",
       "      <th>28</th>\n",
       "      <td>29</td>\n",
       "      <td>5.2</td>\n",
       "      <td>3.4</td>\n",
       "      <td>1.4</td>\n",
       "      <td>0.2</td>\n",
       "      <td>Iris-setosa</td>\n",
       "    </tr>\n",
       "    <tr>\n",
       "      <th>29</th>\n",
       "      <td>30</td>\n",
       "      <td>4.7</td>\n",
       "      <td>3.2</td>\n",
       "      <td>1.6</td>\n",
       "      <td>0.2</td>\n",
       "      <td>Iris-setosa</td>\n",
       "    </tr>\n",
       "    <tr>\n",
       "      <th>30</th>\n",
       "      <td>31</td>\n",
       "      <td>4.8</td>\n",
       "      <td>3.1</td>\n",
       "      <td>1.6</td>\n",
       "      <td>0.2</td>\n",
       "      <td>Iris-setosa</td>\n",
       "    </tr>\n",
       "    <tr>\n",
       "      <th>31</th>\n",
       "      <td>32</td>\n",
       "      <td>5.4</td>\n",
       "      <td>3.4</td>\n",
       "      <td>1.5</td>\n",
       "      <td>0.4</td>\n",
       "      <td>Iris-setosa</td>\n",
       "    </tr>\n",
       "    <tr>\n",
       "      <th>32</th>\n",
       "      <td>33</td>\n",
       "      <td>5.2</td>\n",
       "      <td>4.1</td>\n",
       "      <td>1.5</td>\n",
       "      <td>0.1</td>\n",
       "      <td>Iris-setosa</td>\n",
       "    </tr>\n",
       "    <tr>\n",
       "      <th>33</th>\n",
       "      <td>34</td>\n",
       "      <td>5.5</td>\n",
       "      <td>4.2</td>\n",
       "      <td>1.4</td>\n",
       "      <td>0.2</td>\n",
       "      <td>Iris-setosa</td>\n",
       "    </tr>\n",
       "    <tr>\n",
       "      <th>34</th>\n",
       "      <td>35</td>\n",
       "      <td>4.9</td>\n",
       "      <td>3.1</td>\n",
       "      <td>1.5</td>\n",
       "      <td>0.1</td>\n",
       "      <td>Iris-setosa</td>\n",
       "    </tr>\n",
       "    <tr>\n",
       "      <th>35</th>\n",
       "      <td>36</td>\n",
       "      <td>5.0</td>\n",
       "      <td>3.2</td>\n",
       "      <td>1.2</td>\n",
       "      <td>0.2</td>\n",
       "      <td>Iris-setosa</td>\n",
       "    </tr>\n",
       "    <tr>\n",
       "      <th>36</th>\n",
       "      <td>37</td>\n",
       "      <td>5.5</td>\n",
       "      <td>3.5</td>\n",
       "      <td>1.3</td>\n",
       "      <td>0.2</td>\n",
       "      <td>Iris-setosa</td>\n",
       "    </tr>\n",
       "    <tr>\n",
       "      <th>37</th>\n",
       "      <td>38</td>\n",
       "      <td>4.9</td>\n",
       "      <td>3.1</td>\n",
       "      <td>1.5</td>\n",
       "      <td>0.1</td>\n",
       "      <td>Iris-setosa</td>\n",
       "    </tr>\n",
       "    <tr>\n",
       "      <th>38</th>\n",
       "      <td>39</td>\n",
       "      <td>4.4</td>\n",
       "      <td>3.0</td>\n",
       "      <td>1.3</td>\n",
       "      <td>0.2</td>\n",
       "      <td>Iris-setosa</td>\n",
       "    </tr>\n",
       "    <tr>\n",
       "      <th>39</th>\n",
       "      <td>40</td>\n",
       "      <td>5.1</td>\n",
       "      <td>3.4</td>\n",
       "      <td>1.5</td>\n",
       "      <td>0.2</td>\n",
       "      <td>Iris-setosa</td>\n",
       "    </tr>\n",
       "    <tr>\n",
       "      <th>40</th>\n",
       "      <td>41</td>\n",
       "      <td>5.0</td>\n",
       "      <td>3.5</td>\n",
       "      <td>1.3</td>\n",
       "      <td>0.3</td>\n",
       "      <td>Iris-setosa</td>\n",
       "    </tr>\n",
       "    <tr>\n",
       "      <th>41</th>\n",
       "      <td>42</td>\n",
       "      <td>4.5</td>\n",
       "      <td>2.3</td>\n",
       "      <td>1.3</td>\n",
       "      <td>0.3</td>\n",
       "      <td>Iris-setosa</td>\n",
       "    </tr>\n",
       "    <tr>\n",
       "      <th>42</th>\n",
       "      <td>43</td>\n",
       "      <td>4.4</td>\n",
       "      <td>3.2</td>\n",
       "      <td>1.3</td>\n",
       "      <td>0.2</td>\n",
       "      <td>Iris-setosa</td>\n",
       "    </tr>\n",
       "    <tr>\n",
       "      <th>43</th>\n",
       "      <td>44</td>\n",
       "      <td>5.0</td>\n",
       "      <td>3.5</td>\n",
       "      <td>1.6</td>\n",
       "      <td>0.6</td>\n",
       "      <td>Iris-setosa</td>\n",
       "    </tr>\n",
       "    <tr>\n",
       "      <th>44</th>\n",
       "      <td>45</td>\n",
       "      <td>5.1</td>\n",
       "      <td>3.8</td>\n",
       "      <td>1.9</td>\n",
       "      <td>0.4</td>\n",
       "      <td>Iris-setosa</td>\n",
       "    </tr>\n",
       "    <tr>\n",
       "      <th>45</th>\n",
       "      <td>46</td>\n",
       "      <td>4.8</td>\n",
       "      <td>3.0</td>\n",
       "      <td>1.4</td>\n",
       "      <td>0.3</td>\n",
       "      <td>Iris-setosa</td>\n",
       "    </tr>\n",
       "    <tr>\n",
       "      <th>46</th>\n",
       "      <td>47</td>\n",
       "      <td>5.1</td>\n",
       "      <td>3.8</td>\n",
       "      <td>1.6</td>\n",
       "      <td>0.2</td>\n",
       "      <td>Iris-setosa</td>\n",
       "    </tr>\n",
       "    <tr>\n",
       "      <th>47</th>\n",
       "      <td>48</td>\n",
       "      <td>4.6</td>\n",
       "      <td>3.2</td>\n",
       "      <td>1.4</td>\n",
       "      <td>0.2</td>\n",
       "      <td>Iris-setosa</td>\n",
       "    </tr>\n",
       "    <tr>\n",
       "      <th>48</th>\n",
       "      <td>49</td>\n",
       "      <td>5.3</td>\n",
       "      <td>3.7</td>\n",
       "      <td>1.5</td>\n",
       "      <td>0.2</td>\n",
       "      <td>Iris-setosa</td>\n",
       "    </tr>\n",
       "    <tr>\n",
       "      <th>49</th>\n",
       "      <td>50</td>\n",
       "      <td>5.0</td>\n",
       "      <td>3.3</td>\n",
       "      <td>1.4</td>\n",
       "      <td>0.2</td>\n",
       "      <td>Iris-setosa</td>\n",
       "    </tr>\n",
       "  </tbody>\n",
       "</table>\n",
       "</div>"
      ],
      "text/plain": [
       "    Id  SepalLengthCm  SepalWidthCm  PetalLengthCm  PetalWidthCm      Species\n",
       "0    1            5.1           3.5            1.4           0.2  Iris-setosa\n",
       "1    2            4.9           3.0            1.4           0.2  Iris-setosa\n",
       "2    3            4.7           3.2            1.3           0.2  Iris-setosa\n",
       "3    4            4.6           3.1            1.5           0.2  Iris-setosa\n",
       "4    5            5.0           3.6            1.4           0.2  Iris-setosa\n",
       "5    6            5.4           3.9            1.7           0.4  Iris-setosa\n",
       "6    7            4.6           3.4            1.4           0.3  Iris-setosa\n",
       "7    8            5.0           3.4            1.5           0.2  Iris-setosa\n",
       "8    9            4.4           2.9            1.4           0.2  Iris-setosa\n",
       "9   10            4.9           3.1            1.5           0.1  Iris-setosa\n",
       "10  11            5.4           3.7            1.5           0.2  Iris-setosa\n",
       "11  12            4.8           3.4            1.6           0.2  Iris-setosa\n",
       "12  13            4.8           3.0            1.4           0.1  Iris-setosa\n",
       "13  14            4.3           3.0            1.1           0.1  Iris-setosa\n",
       "14  15            5.8           4.0            1.2           0.2  Iris-setosa\n",
       "15  16            5.7           4.4            1.5           0.4  Iris-setosa\n",
       "16  17            5.4           3.9            1.3           0.4  Iris-setosa\n",
       "17  18            5.1           3.5            1.4           0.3  Iris-setosa\n",
       "18  19            5.7           3.8            1.7           0.3  Iris-setosa\n",
       "19  20            5.1           3.8            1.5           0.3  Iris-setosa\n",
       "20  21            5.4           3.4            1.7           0.2  Iris-setosa\n",
       "21  22            5.1           3.7            1.5           0.4  Iris-setosa\n",
       "22  23            4.6           3.6            1.0           0.2  Iris-setosa\n",
       "23  24            5.1           3.3            1.7           0.5  Iris-setosa\n",
       "24  25            4.8           3.4            1.9           0.2  Iris-setosa\n",
       "25  26            5.0           3.0            1.6           0.2  Iris-setosa\n",
       "26  27            5.0           3.4            1.6           0.4  Iris-setosa\n",
       "27  28            5.2           3.5            1.5           0.2  Iris-setosa\n",
       "28  29            5.2           3.4            1.4           0.2  Iris-setosa\n",
       "29  30            4.7           3.2            1.6           0.2  Iris-setosa\n",
       "30  31            4.8           3.1            1.6           0.2  Iris-setosa\n",
       "31  32            5.4           3.4            1.5           0.4  Iris-setosa\n",
       "32  33            5.2           4.1            1.5           0.1  Iris-setosa\n",
       "33  34            5.5           4.2            1.4           0.2  Iris-setosa\n",
       "34  35            4.9           3.1            1.5           0.1  Iris-setosa\n",
       "35  36            5.0           3.2            1.2           0.2  Iris-setosa\n",
       "36  37            5.5           3.5            1.3           0.2  Iris-setosa\n",
       "37  38            4.9           3.1            1.5           0.1  Iris-setosa\n",
       "38  39            4.4           3.0            1.3           0.2  Iris-setosa\n",
       "39  40            5.1           3.4            1.5           0.2  Iris-setosa\n",
       "40  41            5.0           3.5            1.3           0.3  Iris-setosa\n",
       "41  42            4.5           2.3            1.3           0.3  Iris-setosa\n",
       "42  43            4.4           3.2            1.3           0.2  Iris-setosa\n",
       "43  44            5.0           3.5            1.6           0.6  Iris-setosa\n",
       "44  45            5.1           3.8            1.9           0.4  Iris-setosa\n",
       "45  46            4.8           3.0            1.4           0.3  Iris-setosa\n",
       "46  47            5.1           3.8            1.6           0.2  Iris-setosa\n",
       "47  48            4.6           3.2            1.4           0.2  Iris-setosa\n",
       "48  49            5.3           3.7            1.5           0.2  Iris-setosa\n",
       "49  50            5.0           3.3            1.4           0.2  Iris-setosa"
      ]
     },
     "execution_count": 11,
     "metadata": {},
     "output_type": "execute_result"
    }
   ],
   "source": [
    "# setosa values\n",
    "\n",
    "df_setosa\n"
   ]
  },
  {
   "cell_type": "code",
   "execution_count": 12,
   "id": "125831e5",
   "metadata": {},
   "outputs": [
    {
     "data": {
      "text/plain": [
       "0     0.2\n",
       "1     0.2\n",
       "2     0.2\n",
       "3     0.2\n",
       "4     0.2\n",
       "5     0.4\n",
       "6     0.3\n",
       "7     0.2\n",
       "8     0.2\n",
       "9     0.1\n",
       "10    0.2\n",
       "11    0.2\n",
       "12    0.1\n",
       "13    0.1\n",
       "14    0.2\n",
       "15    0.4\n",
       "16    0.4\n",
       "17    0.3\n",
       "18    0.3\n",
       "19    0.3\n",
       "20    0.2\n",
       "21    0.4\n",
       "22    0.2\n",
       "23    0.5\n",
       "24    0.2\n",
       "25    0.2\n",
       "26    0.4\n",
       "27    0.2\n",
       "28    0.2\n",
       "29    0.2\n",
       "30    0.2\n",
       "31    0.4\n",
       "32    0.1\n",
       "33    0.2\n",
       "34    0.1\n",
       "35    0.2\n",
       "36    0.2\n",
       "37    0.1\n",
       "38    0.2\n",
       "39    0.2\n",
       "40    0.3\n",
       "41    0.3\n",
       "42    0.2\n",
       "43    0.6\n",
       "44    0.4\n",
       "45    0.3\n",
       "46    0.2\n",
       "47    0.2\n",
       "48    0.2\n",
       "49    0.2\n",
       "Name: PetalWidthCm, dtype: float64"
      ]
     },
     "execution_count": 12,
     "metadata": {},
     "output_type": "execute_result"
    }
   ],
   "source": [
    "# setosa petal widths\n",
    "\n",
    "petals = df_setosa['PetalWidthCm']\n",
    "petals"
   ]
  },
  {
   "cell_type": "code",
   "execution_count": 13,
   "id": "5ed58a94",
   "metadata": {},
   "outputs": [
    {
     "data": {
      "text/plain": [
       "0.2    28\n",
       "0.4     7\n",
       "0.3     7\n",
       "0.1     6\n",
       "0.5     1\n",
       "0.6     1\n",
       "Name: PetalWidthCm, dtype: int64"
      ]
     },
     "execution_count": 13,
     "metadata": {},
     "output_type": "execute_result"
    }
   ],
   "source": [
    "# get the value counts of the setosa petal width\n",
    "\n",
    "petal_counts = petals.value_counts()\n",
    "petal_counts"
   ]
  },
  {
   "cell_type": "code",
   "execution_count": 14,
   "id": "5672d7db",
   "metadata": {},
   "outputs": [
    {
     "data": {
      "text/plain": [
       "<BarContainer object of 6 artists>"
      ]
     },
     "execution_count": 14,
     "metadata": {},
     "output_type": "execute_result"
    },
    {
     "data": {
      "image/png": "[encoded data removed]",
      "text/plain": [
       "<Figure size 1120x640 with 1 Axes>"
      ]
     },
     "metadata": {},
     "output_type": "display_data"
    }
   ],
   "source": [
    "# create bar chart\n",
    "\n",
    "plt.bar(petal_counts.index, petal_counts)\n",
    "\n",
    "\n",
    "# x can be float or arrary ( arrays will be split along the x axis)\n",
    "\n",
    "# this output is madness \n",
    "\n",
    "# the index labels are numbers so this is not a good ides\n",
    "\n",
    "# bar chart is not suitable for this data - when lables are numbers"
   ]
  },
  {
   "cell_type": "code",
   "execution_count": 15,
   "id": "836fa844",
   "metadata": {},
   "outputs": [
    {
     "data": {
      "text/plain": [
       "<BarContainer object of 6 artists>"
      ]
     },
     "execution_count": 15,
     "metadata": {},
     "output_type": "execute_result"
    },
    {
     "data": {
      "image/png": "[encoded data removed]",
      "text/plain": [
       "<Figure size 1120x640 with 1 Axes>"
      ]
     },
     "metadata": {},
     "output_type": "display_data"
    }
   ],
   "source": [
    "# create bar chart\n",
    "\n",
    "plt.bar(petal_counts.index, petal_counts, width=0.05)\n",
    "\n",
    "# adding the width allows them to be ordered by python\n",
    "\n",
    "# this looks reasonable but it is still incorrect\n",
    "\n",
    "# here is where ssps will not let you do this - this is a scale variable - ratio variable / numerical variable\n",
    "\n",
    "# the correct graph is a histograph\n",
    "\n",
    "# the only reason is the iris data allows this - this shouldnt work ( data is rounded - not much variance)"
   ]
  },
  {
   "cell_type": "code",
   "execution_count": 16,
   "id": "386fc967",
   "metadata": {},
   "outputs": [
    {
     "data": {
      "text/plain": [
       "<BarContainer object of 21 artists>"
      ]
     },
     "execution_count": 16,
     "metadata": {},
     "output_type": "execute_result"
    },
    {
     "data": {
      "image/png": "[encoded data removed]",
      "text/plain": [
       "<Figure size 1120x640 with 1 Axes>"
      ]
     },
     "metadata": {},
     "output_type": "display_data"
    }
   ],
   "source": [
    "# here using the virginia data \n",
    "\n",
    "\n",
    "# Extract just the virginicas.\n",
    "df_virginica = df[df['Species'] == 'Iris-virginica']\n",
    "\n",
    "# Extract the sepal lengths.\n",
    "sepal = df_virginica['SepalLengthCm']\n",
    "\n",
    "# Get the value counts of the virginica sepal lengths.\n",
    "sepal_counts = sepal.value_counts()\n",
    "\n",
    "# Create the bar chart.\n",
    "plt.bar(sepal_counts.index, sepal_counts, width=0.05)"
   ]
  },
  {
   "cell_type": "markdown",
   "id": "f718eef8",
   "metadata": {},
   "source": [
    "Here there is many more values - similar variable sepal length for virginica - but the bar chart has many more bars. It doesnt tell us anything - its hard to pick out any relevant data or insight.\n",
    "\n",
    "The bar chart is the wrong type of plot for this data.\n",
    "\n",
    "Its important to think of the variables and what to do with the variable.\n",
    "\n",
    "If the variable is nominal and there is few catagories - then you can use a bar chart. Catagorical variable - low number of catagories - top 5 for example."
   ]
  },
  {
   "cell_type": "markdown",
   "id": "42bf168a",
   "metadata": {},
   "source": [
    "<br>\n",
    "\n",
    "<br>\n",
    "\n",
    "## Histograms\n",
    "\n",
    "***"
   ]
  },
  {
   "attachments": {
    "HistDocs.PNG": {
     "image/png": "[encoded data removed]"
    }
   },
   "cell_type": "markdown",
   "id": "6d8109c4",
   "metadata": {},
   "source": [
    "![HistDocs.PNG](attachment:HistDocs.PNG)"
   ]
  },
  {
   "cell_type": "markdown",
   "id": "f8abb4eb",
   "metadata": {},
   "source": [
    "There is only one required input - x"
   ]
  },
  {
   "cell_type": "markdown",
   "id": "cf055f47",
   "metadata": {},
   "source": [
    "Technically its not the height of the Hist that matters, its the area enclosed by the bar.\n",
    "\n",
    "In the following examples, where the width is equal amoung the bars, its the height that matters. It is proportional to the value of the area.\n",
    "\n",
    "\n",
    "> https://matplotlib.org/stable/api/_as_gen/matplotlib.pyplot.hist.html"
   ]
  },
  {
   "cell_type": "code",
   "execution_count": 17,
   "id": "8c6e4eaa",
   "metadata": {},
   "outputs": [
    {
     "data": {
      "text/plain": [
       "0      5.1\n",
       "1      4.9\n",
       "2      4.7\n",
       "3      4.6\n",
       "4      5.0\n",
       "      ... \n",
       "145    6.7\n",
       "146    6.3\n",
       "147    6.5\n",
       "148    6.2\n",
       "149    5.9\n",
       "Name: SepalLengthCm, Length: 150, dtype: float64"
      ]
     },
     "execution_count": 17,
     "metadata": {},
     "output_type": "execute_result"
    }
   ],
   "source": [
    "# Hist of Sepal Length \n",
    "\n",
    "\n",
    "# isolate sepal length\n",
    "\n",
    "sepal_length = df['SepalLengthCm']\n",
    "sepal_length"
   ]
  },
  {
   "cell_type": "code",
   "execution_count": 18,
   "id": "a028e19f",
   "metadata": {},
   "outputs": [
    {
     "data": {
      "text/plain": [
       "(array([ 9., 23., 14., 27., 16., 26., 18.,  6.,  5.,  6.]),\n",
       " array([4.3 , 4.66, 5.02, 5.38, 5.74, 6.1 , 6.46, 6.82, 7.18, 7.54, 7.9 ]),\n",
       " <BarContainer object of 10 artists>)"
      ]
     },
     "execution_count": 18,
     "metadata": {},
     "output_type": "execute_result"
    },
    {
     "data": {
      "image/png": "[encoded data removed]",
      "text/plain": [
       "<Figure size 1120x640 with 1 Axes>"
      ]
     },
     "metadata": {},
     "output_type": "display_data"
    }
   ],
   "source": [
    "plt.hist(sepal_length)\n",
    "\n",
    "# this creates the hist\n",
    "# it also outputs additional information - tupple with 2 arrays\n",
    "# first array  height / second - is width - ten bars ( as per the usual hist)"
   ]
  },
  {
   "cell_type": "markdown",
   "id": "53e7cfa8",
   "metadata": {},
   "source": [
    "We have passed through sepal length - it has plotted the lowest and highest and chop the data into the remaining bins (bins default=10)"
   ]
  },
  {
   "cell_type": "code",
   "execution_count": 19,
   "id": "083c9579",
   "metadata": {},
   "outputs": [
    {
     "data": {
      "text/plain": [
       "count    150.000000\n",
       "mean       5.843333\n",
       "std        0.828066\n",
       "min        4.300000\n",
       "25%        5.100000\n",
       "50%        5.800000\n",
       "75%        6.400000\n",
       "max        7.900000\n",
       "Name: SepalLengthCm, dtype: float64"
      ]
     },
     "execution_count": 19,
     "metadata": {},
     "output_type": "execute_result"
    }
   ],
   "source": [
    "sepal_length.describe()\n",
    "\n",
    "\n",
    "# 4.3 -> 7.9 Lowest to highest value\n",
    "\n",
    "# this it plots the corresponding data\n",
    "\n",
    "# 4.66 - 23 height\n",
    "# 5.02 - 12 height\n"
   ]
  },
  {
   "cell_type": "code",
   "execution_count": 20,
   "id": "ac64324d",
   "metadata": {},
   "outputs": [
    {
     "data": {
      "text/plain": [
       "(array([0.16666667, 0.42592593, 0.25925926, 0.5       , 0.2962963 ,\n",
       "        0.48148148, 0.33333333, 0.11111111, 0.09259259, 0.11111111]),\n",
       " array([4.3 , 4.66, 5.02, 5.38, 5.74, 6.1 , 6.46, 6.82, 7.18, 7.54, 7.9 ]),\n",
       " <BarContainer object of 10 artists>)"
      ]
     },
     "execution_count": 20,
     "metadata": {},
     "output_type": "execute_result"
    },
    {
     "data": {
      "image/png": "[encoded data removed]",
      "text/plain": [
       "<Figure size 1120x640 with 1 Axes>"
      ]
     },
     "metadata": {},
     "output_type": "display_data"
    }
   ],
   "source": [
    "plt.hist(sepal_length, density=True)\n",
    "\n",
    "# you will see the max y value is now .5 as opposed to 30\n",
    "# density means that the values  - meaning the area of the rectangles (4.3 * 4.66) do not total more than 1\n",
    "# if you add the area of them all you would get 1\n",
    "# it doesnt change much\n",
    "\n",
    "\n",
    "\n",
    "\n",
    "# you could scale the Y axis so that the bars do not hit the top"
   ]
  },
  {
   "cell_type": "code",
   "execution_count": 21,
   "id": "9a55dfa2",
   "metadata": {},
   "outputs": [
    {
     "data": {
      "text/plain": [
       "(array([ 4., 18., 30., 92.,  6.]),\n",
       " array([4. , 4.5, 5. , 5.5, 7.5, 8. ]),\n",
       " <BarContainer object of 5 artists>)"
      ]
     },
     "execution_count": 21,
     "metadata": {},
     "output_type": "execute_result"
    },
    {
     "data": {
      "image/png": "[encoded data removed]",
      "text/plain": [
       "<Figure size 1120x640 with 1 Axes>"
      ]
     },
     "metadata": {},
     "output_type": "display_data"
    }
   ],
   "source": [
    "plt.hist(sepal_length, bins=[4.0, 4.5, 5.0, 5.5, 7.5, 8.0])\n",
    "\n",
    "# hit with 5 bars\n",
    "# but the bar in the middle is much wider than the other\n",
    "# the area of the bin is height * width\n",
    "\n",
    "# avoid having bins at different width - hard to read"
   ]
  },
  {
   "cell_type": "code",
   "execution_count": 22,
   "id": "549d7a00",
   "metadata": {},
   "outputs": [],
   "source": [
    "## another example\n",
    "\n",
    "#sepallength of each \n",
    "\n",
    "df_setosa = df[df['Species'] == 'Iris-setosa']['SepalLengthCm'].to_numpy()\n",
    "df_versic = df[df['Species'] == 'Iris-versicolor']['SepalLengthCm'].to_numpy()\n",
    "df_virgin = df[df['Species'] == 'Iris-virginica']['SepalLengthCm'].to_numpy()\n"
   ]
  },
  {
   "cell_type": "code",
   "execution_count": 23,
   "id": "ad27e7d5",
   "metadata": {},
   "outputs": [
    {
     "data": {
      "text/plain": [
       "[array([5.1, 4.9, 4.7, 4.6, 5. , 5.4, 4.6, 5. , 4.4, 4.9, 5.4, 4.8, 4.8,\n",
       "        4.3, 5.8, 5.7, 5.4, 5.1, 5.7, 5.1, 5.4, 5.1, 4.6, 5.1, 4.8, 5. ,\n",
       "        5. , 5.2, 5.2, 4.7, 4.8, 5.4, 5.2, 5.5, 4.9, 5. , 5.5, 4.9, 4.4,\n",
       "        5.1, 5. , 4.5, 4.4, 5. , 5.1, 4.8, 5.1, 4.6, 5.3, 5. ]),\n",
       " array([7. , 6.4, 6.9, 5.5, 6.5, 5.7, 6.3, 4.9, 6.6, 5.2, 5. , 5.9, 6. ,\n",
       "        6.1, 5.6, 6.7, 5.6, 5.8, 6.2, 5.6, 5.9, 6.1, 6.3, 6.1, 6.4, 6.6,\n",
       "        6.8, 6.7, 6. , 5.7, 5.5, 5.5, 5.8, 6. , 5.4, 6. , 6.7, 6.3, 5.6,\n",
       "        5.5, 5.5, 6.1, 5.8, 5. , 5.6, 5.7, 5.7, 6.2, 5.1, 5.7]),\n",
       " array([6.3, 5.8, 7.1, 6.3, 6.5, 7.6, 4.9, 7.3, 6.7, 7.2, 6.5, 6.4, 6.8,\n",
       "        5.7, 5.8, 6.4, 6.5, 7.7, 7.7, 6. , 6.9, 5.6, 7.7, 6.3, 6.7, 7.2,\n",
       "        6.2, 6.1, 6.4, 7.2, 7.4, 7.9, 6.4, 6.3, 6.1, 7.7, 6.3, 6.4, 6. ,\n",
       "        6.9, 6.7, 6.9, 5.8, 6.8, 6.7, 6.7, 6.3, 6.5, 6.2, 5.9])]"
      ]
     },
     "execution_count": 23,
     "metadata": {},
     "output_type": "execute_result"
    }
   ],
   "source": [
    "x = [df_setosa, df_versic, df_virgin]\n",
    "x"
   ]
  },
  {
   "cell_type": "code",
   "execution_count": 24,
   "id": "7a2f5017",
   "metadata": {},
   "outputs": [
    {
     "data": {
      "text/plain": [
       "<matplotlib.legend.Legend at 0x2b11ddd2580>"
      ]
     },
     "execution_count": 24,
     "metadata": {},
     "output_type": "execute_result"
    },
    {
     "data": {
      "image/png": "[encoded data removed]",
      "text/plain": [
       "<Figure size 1120x640 with 1 Axes>"
      ]
     },
     "metadata": {},
     "output_type": "display_data"
    }
   ],
   "source": [
    "plt.hist(x)\n",
    "labels= [\"setosa\",\"versi\",\"virgin\"]\n",
    "plt.legend(labels)"
   ]
  },
  {
   "cell_type": "code",
   "execution_count": 25,
   "id": "0c1ff750",
   "metadata": {},
   "outputs": [
    {
     "data": {
      "text/plain": [
       "array([[5.1, 7. , 6.3],\n",
       "       [4.9, 6.4, 5.8],\n",
       "       [4.7, 6.9, 7.1],\n",
       "       [4.6, 5.5, 6.3],\n",
       "       [5. , 6.5, 6.5],\n",
       "       [5.4, 5.7, 7.6],\n",
       "       [4.6, 6.3, 4.9],\n",
       "       [5. , 4.9, 7.3],\n",
       "       [4.4, 6.6, 6.7],\n",
       "       [4.9, 5.2, 7.2],\n",
       "       [5.4, 5. , 6.5],\n",
       "       [4.8, 5.9, 6.4],\n",
       "       [4.8, 6. , 6.8],\n",
       "       [4.3, 6.1, 5.7],\n",
       "       [5.8, 5.6, 5.8],\n",
       "       [5.7, 6.7, 6.4],\n",
       "       [5.4, 5.6, 6.5],\n",
       "       [5.1, 5.8, 7.7],\n",
       "       [5.7, 6.2, 7.7],\n",
       "       [5.1, 5.6, 6. ],\n",
       "       [5.4, 5.9, 6.9],\n",
       "       [5.1, 6.1, 5.6],\n",
       "       [4.6, 6.3, 7.7],\n",
       "       [5.1, 6.1, 6.3],\n",
       "       [4.8, 6.4, 6.7],\n",
       "       [5. , 6.6, 7.2],\n",
       "       [5. , 6.8, 6.2],\n",
       "       [5.2, 6.7, 6.1],\n",
       "       [5.2, 6. , 6.4],\n",
       "       [4.7, 5.7, 7.2],\n",
       "       [4.8, 5.5, 7.4],\n",
       "       [5.4, 5.5, 7.9],\n",
       "       [5.2, 5.8, 6.4],\n",
       "       [5.5, 6. , 6.3],\n",
       "       [4.9, 5.4, 6.1],\n",
       "       [5. , 6. , 7.7],\n",
       "       [5.5, 6.7, 6.3],\n",
       "       [4.9, 6.3, 6.4],\n",
       "       [4.4, 5.6, 6. ],\n",
       "       [5.1, 5.5, 6.9],\n",
       "       [5. , 5.5, 6.7],\n",
       "       [4.5, 6.1, 6.9],\n",
       "       [4.4, 5.8, 5.8],\n",
       "       [5. , 5. , 6.8],\n",
       "       [5.1, 5.6, 6.7],\n",
       "       [4.8, 5.7, 6.7],\n",
       "       [5.1, 5.7, 6.3],\n",
       "       [4.6, 6.2, 6.5],\n",
       "       [5.3, 5.1, 6.2],\n",
       "       [5. , 5.7, 5.9]])"
      ]
     },
     "execution_count": 25,
     "metadata": {},
     "output_type": "execute_result"
    }
   ],
   "source": [
    "x = np.vstack([df_setosa, df_versic, df_virgin]).T\n",
    "x\n",
    "\n",
    "\n",
    "# vstack - t \n",
    "# this just changes the way the data is outputted\n",
    "# array of an array - multi-d array\n",
    "# t outputs them like this as opposed to stacked as above"
   ]
  },
  {
   "cell_type": "code",
   "execution_count": 26,
   "id": "2101f84f",
   "metadata": {},
   "outputs": [
    {
     "data": {
      "text/plain": [
       "<matplotlib.legend.Legend at 0x2b11e689100>"
      ]
     },
     "execution_count": 26,
     "metadata": {},
     "output_type": "execute_result"
    },
    {
     "data": {
      "image/png": "[encoded data removed]",
      "text/plain": [
       "<Figure size 1120x640 with 1 Axes>"
      ]
     },
     "metadata": {},
     "output_type": "display_data"
    }
   ],
   "source": [
    "plt.hist(x)\n",
    "labels= [\"setosa\",\"versi\",\"virgin\"]\n",
    "plt.legend(labels)"
   ]
  },
  {
   "cell_type": "markdown",
   "id": "ea4c59b1",
   "metadata": {},
   "source": [
    "These bins are not up against eachother\n",
    "\n",
    "3 plots on top of eachother\n",
    "\n",
    "Python has plotted it against eachother with spaces\n",
    "\n",
    "Would not recommend to use multiple data sets on the one plor"
   ]
  },
  {
   "cell_type": "code",
   "execution_count": 27,
   "id": "4a524801",
   "metadata": {},
   "outputs": [
    {
     "data": {
      "text/plain": [
       "<matplotlib.legend.Legend at 0x2b11d911a90>"
      ]
     },
     "execution_count": 27,
     "metadata": {},
     "output_type": "execute_result"
    },
    {
     "data": {
      "image/png": "[encoded data removed]",
      "text/plain": [
       "<Figure size 1120x640 with 1 Axes>"
      ]
     },
     "metadata": {},
     "output_type": "display_data"
    }
   ],
   "source": [
    "plt.hist(x, stacked=True)\n",
    "labels= [\"setosa\",\"versi\",\"virgin\"]\n",
    "plt.legend(labels)"
   ]
  },
  {
   "cell_type": "markdown",
   "id": "34eb7ff4",
   "metadata": {},
   "source": [
    "Increasing the bins, can change the data output - be careful with this.\n",
    "\n",
    "Increased granularity is not always an advantage.\n",
    "\n",
    "> https://en.wikipedia.org/wiki/Kernel_density_estimation"
   ]
  },
  {
   "cell_type": "code",
   "execution_count": 28,
   "id": "01bd28fe",
   "metadata": {},
   "outputs": [
    {
     "data": {
      "text/plain": [
       "<matplotlib.legend.Legend at 0x2b11ecca100>"
      ]
     },
     "execution_count": 28,
     "metadata": {},
     "output_type": "execute_result"
    },
    {
     "data": {
      "image/png": "[encoded data removed]",
      "text/plain": [
       "<Figure size 1120x640 with 1 Axes>"
      ]
     },
     "metadata": {},
     "output_type": "display_data"
    }
   ],
   "source": [
    "plt.hist(x, bins=40)\n",
    "labels= [\"setosa\",\"versi\",\"virgin\"]\n",
    "plt.legend(labels)"
   ]
  },
  {
   "cell_type": "markdown",
   "id": "b4d5545f",
   "metadata": {},
   "source": [
    "SNS seaborn\n",
    "\n",
    "> https://seaborn.pydata.org/generated/seaborn.displot.html#seaborn.displot\n",
    "\n",
    "Will plot the Kernal density also"
   ]
  },
  {
   "cell_type": "markdown",
   "id": "e1c53ba3",
   "metadata": {},
   "source": [
    "<br>\n",
    "\n",
    "****\n",
    "\n",
    "Additional:\n",
    "\n",
    "> https://en.wikipedia.org/wiki/Karl_Pearson"
   ]
  },
  {
   "cell_type": "markdown",
   "id": "282e5d05",
   "metadata": {},
   "source": [
    "****\n",
    "\n",
    "# End\n",
    "\n",
    "\n",
    "***"
   ]
  }
 ],
 "metadata": {
  "kernelspec": {
   "display_name": "Python 3",
   "language": "python",
   "name": "python3"
  },
  "language_info": {
   "codemirror_mode": {
    "name": "ipython",
    "version": 3
   },
   "file_extension": ".py",
   "mimetype": "text/x-python",
   "name": "python",
   "nbconvert_exporter": "python",
   "pygments_lexer": "ipython3",
   "version": "3.8.8"
  }
 },
 "nbformat": 4,
 "nbformat_minor": 5
}
