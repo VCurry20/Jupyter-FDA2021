{
 "cells": [
  {
   "cell_type": "markdown",
   "id": "2c112503",
   "metadata": {},
   "source": [
    "Week 3 - Fundatmentals of Data Analysis\n",
    "\n",
    "> Video: Numpy Random and Dice - https://web.microsoftstream.com/video/fb98cfa2-d0d2-4c70-9af2-fe8f20d02b99\n",
    "\n",
    "> Numpy Docs - https://numpy.org/doc/stable/reference/random/index.html#random-quick-start\n",
    "\n",
    "> Numpy Unique - https://numpy.org/doc/stable/reference/generated/numpy.unique.html\n",
    "\n",
    "> Matplotlib Docs - https://matplotlib.org/stable/api/_as_gen/matplotlib.pyplot.barh.html\n",
    "\n",
    "> plt vs ax - https://towardsdatascience.com/what-are-the-plt-and-ax-in-matplotlib-exactly-d2cf4bf164a9\n",
    "\n",
    "> Python Plotting - https://realpython.com/python-matplotlib-guide/"
   ]
  },
  {
   "cell_type": "markdown",
   "id": "cbdcf024",
   "metadata": {},
   "source": [
    "<br>\n",
    "\n",
    "### Rolling Dice\n",
    "\n",
    "***"
   ]
  },
  {
   "cell_type": "code",
   "execution_count": 1,
   "id": "4edb9295",
   "metadata": {},
   "outputs": [],
   "source": [
    "import numpy as np\n",
    "import matplotlib.pyplot as plt\n"
   ]
  },
  {
   "cell_type": "code",
   "execution_count": 2,
   "id": "aa5cee8c",
   "metadata": {},
   "outputs": [
    {
     "data": {
      "text/plain": [
       "array([0, 1, 0, 1, 0, 0, 0, 0, 0, 1])"
      ]
     },
     "execution_count": 2,
     "metadata": {},
     "output_type": "execute_result"
    }
   ],
   "source": [
    "# example of code\n",
    "np.random.randint(2, size=10)    # random group of numbers/ highest 2 ( so 0 or 1) / size - 10 examples / numbers"
   ]
  },
  {
   "cell_type": "markdown",
   "id": "2a75068d",
   "metadata": {},
   "source": [
    "Rolling a Single Dice\n",
    "\n",
    "***"
   ]
  },
  {
   "cell_type": "code",
   "execution_count": 3,
   "id": "d7dfdc0a",
   "metadata": {},
   "outputs": [
    {
     "data": {
      "text/plain": [
       "6"
      ]
     },
     "execution_count": 3,
     "metadata": {},
     "output_type": "execute_result"
    }
   ],
   "source": [
    "# pick a random interger between 1 - 7 ( inclusive of 1, up to 7 not exclusive i.e 6)\n",
    "\n",
    "np.random.randint(1,7)"
   ]
  },
  {
   "cell_type": "markdown",
   "id": "a71871e9",
   "metadata": {},
   "source": [
    "### Roll Several Dice\n",
    "\n",
    "***"
   ]
  },
  {
   "cell_type": "code",
   "execution_count": 4,
   "id": "a8a4df2a",
   "metadata": {},
   "outputs": [],
   "source": [
    "throws = 1000"
   ]
  },
  {
   "cell_type": "code",
   "execution_count": 5,
   "id": "e40ae00a",
   "metadata": {},
   "outputs": [],
   "source": [
    "# pick many random intergers between 1 - 7 ( inclusive of 1, up to 7 not exclusive i.e 6)\n",
    "\n",
    "dice = np.random.randint(1, 7, throws)"
   ]
  },
  {
   "cell_type": "code",
   "execution_count": 6,
   "id": "a8ee5e1d",
   "metadata": {},
   "outputs": [
    {
     "name": "stdout",
     "output_type": "stream",
     "text": [
      "[6 5 3 3 5 5 2 1 2 2 2 5 2 2 3 5 5 6 4 2 2 2 4 5 1 1 4 2 6 5 6 5 5 2 2 5 6\n",
      " 1 5 4 5 6 2 3 1 3 1 6 4 2 5 2 6 4 4 5 1 2 1 1 4 4 5 4 2 5 1 6 4 6 6 2 6 6\n",
      " 2 5 6 6 5 4 1 4 4 6 3 1 6 4 5 1 1 3 3 3 3 1 1 3 5 4 6 2 5 4 5 1 4 4 6 4 1\n",
      " 6 2 4 6 1 3 2 1 1 1 3 3 3 5 1 6 5 2 3 6 5 2 2 5 3 4 1 5 4 3 6 6 4 2 3 3 5\n",
      " 1 5 4 1 6 4 2 5 2 3 3 2 4 5 2 2 6 4 5 4 6 2 4 2 6 2 5 1 2 6 2 5 1 3 4 1 4\n",
      " 2 5 2 6 3 3 2 5 3 5 2 6 4 1 4 5 3 1 1 5 4 3 1 5 1 1 5 2 4 4 5 6 6 4 4 2 5\n",
      " 3 4 3 4 1 1 2 4 6 1 4 6 2 3 2 4 6 5 5 3 2 3 1 2 5 1 1 1 2 4 6 1 5 3 6 5 6\n",
      " 4 2 1 2 5 6 2 4 6 5 4 1 6 2 2 6 1 5 6 2 3 2 2 1 6 3 1 3 4 4 3 1 5 5 1 3 1\n",
      " 2 5 3 4 4 2 4 4 1 2 2 5 6 5 5 4 3 6 1 5 3 1 3 3 1 6 3 6 5 5 3 1 2 1 3 5 4\n",
      " 6 6 6 1 4 4 5 4 2 2 3 3 1 2 1 1 1 1 5 5 2 2 2 5 6 4 2 1 3 2 4 4 5 5 2 3 3\n",
      " 4 5 2 6 3 3 1 4 5 4 4 6 3 4 4 4 2 4 5 3 5 2 6 5 4 3 3 5 6 6 1 6 1 1 5 2 3\n",
      " 1 3 5 5 5 5 5 2 5 5 4 6 2 2 6 3 6 5 1 3 2 6 5 1 6 6 2 6 2 3 4 5 5 3 3 3 2\n",
      " 5 4 5 4 1 1 3 4 1 1 2 2 1 6 3 2 4 5 1 4 3 6 2 3 4 6 6 3 6 5 3 1 6 6 2 3 4\n",
      " 2 6 2 3 4 5 1 4 6 3 6 1 4 3 1 1 2 4 1 4 3 2 6 2 6 3 2 1 1 1 3 3 3 1 4 6 5\n",
      " 4 2 1 5 5 4 2 3 1 1 2 3 5 3 5 6 3 5 6 3 1 6 1 5 3 1 1 3 4 6 6 5 6 6 5 3 1\n",
      " 5 3 5 2 1 4 1 4 4 1 5 2 3 6 1 2 5 2 3 6 1 5 2 4 5 4 4 2 6 6 1 1 5 3 4 2 2\n",
      " 4 3 6 3 3 5 3 1 4 1 6 1 2 5 1 4 5 6 5 3 5 6 5 1 2 4 1 3 1 5 6 4 4 5 2 4 2\n",
      " 6 4 4 4 6 1 1 4 5 1 3 6 5 1 6 5 1 5 2 2 3 1 2 6 5 5 1 6 6 1 1 6 2 4 6 5 3\n",
      " 4 1 1 1 6 1 4 3 5 4 1 4 4 6 3 1 2 5 2 1 5 2 5 3 5 1 5 4 1 1 6 4 5 4 3 1 6\n",
      " 5 1 3 4 6 1 3 2 5 1 1 3 4 2 6 4 1 1 3 3 1 6 3 3 5 2 6 1 1 4 3 6 5 2 5 3 6\n",
      " 4 3 3 6 6 4 3 1 5 1 2 5 6 3 2 3 2 5 3 4 4 4 1 5 2 3 3 5 3 6 6 1 2 4 6 5 2\n",
      " 6 2 6 2 4 4 2 4 1 4 1 5 5 4 6 5 5 3 2 2 1 1 1 4 6 2 4 6 1 5 5 2 3 5 1 6 3\n",
      " 6 4 5 3 2 4 4 5 5 4 4 5 6 5 5 1 1 3 2 5 2 5 3 1 2 1 3 4 5 6 2 5 1 2 3 3 2\n",
      " 5 3 5 6 1 3 2 5 2 2 1 2 4 5 6 1 3 1 6 2 3 3 3 4 1 3 4 6 4 6 6 4 4 6 3 1 1\n",
      " 3 5 3 2 2 1 2 2 1 3 1 2 2 1 3 4 2 6 1 2 6 6 1 4 1 2 6 5 3 4 4 1 1 2 1 5 2\n",
      " 2 6 1 5 2 6 4 5 4 6 1 2 1 1 6 4 2 5 1 1 5 3 1 1 1 1 6 3 1 4 6 4 4 3 1 4 4\n",
      " 5 3 5 4 2 2 4 2 6 2 5 3 4 3 3 6 5 6 5 3 5 3 5 4 2 2 4 2 3 2 5 5 5 3 4 4 5\n",
      " 2]\n"
     ]
    }
   ],
   "source": [
    "print (dice)"
   ]
  },
  {
   "cell_type": "markdown",
   "id": "5900fbf6",
   "metadata": {},
   "source": [
    "Now we want to check the distribution of the numbers randomly choosen.\n",
    "\n",
    "We want to check that each number is choosen a similar number of times, we therefore look at a large output of random data on a bar chart.\n",
    "\n"
   ]
  },
  {
   "cell_type": "markdown",
   "id": "4007ac0b",
   "metadata": {},
   "source": [
    "### Plot the Dice Rolls\n",
    "\n",
    "***"
   ]
  },
  {
   "cell_type": "code",
   "execution_count": 7,
   "id": "1f646450",
   "metadata": {},
   "outputs": [
    {
     "data": {
      "text/plain": [
       "array([1, 2, 3, 4, 5, 6])"
      ]
     },
     "execution_count": 7,
     "metadata": {},
     "output_type": "execute_result"
    }
   ],
   "source": [
    "# We are about to use plt.barh \n",
    "# This will allow us to plot our dice data\n",
    "# However we need to know the number of bars required - numpy unique will tell us the unique elements in an array\n",
    "\n",
    "\n",
    "np.unique(dice)"
   ]
  },
  {
   "cell_type": "code",
   "execution_count": 8,
   "id": "c8b27790",
   "metadata": {},
   "outputs": [
    {
     "data": {
      "text/plain": [
       "(array([1, 2, 3, 4, 5, 6]), array([183, 167, 157, 164, 179, 150], dtype=int64))"
      ]
     },
     "execution_count": 8,
     "metadata": {},
     "output_type": "execute_result"
    }
   ],
   "source": [
    "# Also it will count the number of times these values appear\n",
    "\n",
    "np.unique(dice, return_counts=True)"
   ]
  },
  {
   "cell_type": "code",
   "execution_count": 9,
   "id": "275414b7",
   "metadata": {},
   "outputs": [
    {
     "data": {
      "text/plain": [
       "(array([1, 2, 3, 4, 5, 6]), array([183, 167, 157, 164, 179, 150], dtype=int64))"
      ]
     },
     "execution_count": 9,
     "metadata": {},
     "output_type": "execute_result"
    }
   ],
   "source": [
    "# set as variable\n",
    "\n",
    "faces, counts = np.unique(dice, return_counts=True)\n",
    "faces, counts"
   ]
  },
  {
   "cell_type": "code",
   "execution_count": 10,
   "id": "71325d74",
   "metadata": {},
   "outputs": [
    {
     "data": {
      "text/plain": [
       "<BarContainer object of 6 artists>"
      ]
     },
     "execution_count": 10,
     "metadata": {},
     "output_type": "execute_result"
    },
    {
     "data": {
      "image/png": "[encoded data removed]",
      "text/plain": [
       "<Figure size 432x288 with 1 Axes>"
      ]
     },
     "metadata": {
      "needs_background": "light"
     },
     "output_type": "display_data"
    }
   ],
   "source": [
    "# this allows you to make a HORIZONTAL plot instead of the normal vertical\n",
    "\n",
    "plt.barh(faces, counts)"
   ]
  },
  {
   "cell_type": "code",
   "execution_count": 11,
   "id": "7c746392",
   "metadata": {},
   "outputs": [
    {
     "data": {
      "image/png": "[encoded data removed]",
      "text/plain": [
       "<Figure size 432x288 with 1 Axes>"
      ]
     },
     "metadata": {
      "needs_background": "light"
     },
     "output_type": "display_data"
    }
   ],
   "source": [
    "# a nicer version would be as follows\n",
    "\n",
    "fig, ax = plt.subplots()\n",
    "ax.barh(faces, counts)\n",
    "ax.set_ylabel('Face')\n",
    "ax.set_xlabel('Count');"
   ]
  },
  {
   "cell_type": "markdown",
   "id": "fea34753",
   "metadata": {},
   "source": [
    "<br>\n",
    "\n",
    "### Roll More than One Dice\n",
    "\n",
    "***"
   ]
  },
  {
   "cell_type": "code",
   "execution_count": 12,
   "id": "c40c82ba",
   "metadata": {},
   "outputs": [
    {
     "data": {
      "text/plain": [
       "array([[5, 4],\n",
       "       [5, 2],\n",
       "       [1, 5],\n",
       "       ...,\n",
       "       [6, 4],\n",
       "       [6, 6],\n",
       "       [4, 1]])"
      ]
     },
     "execution_count": 12,
     "metadata": {},
     "output_type": "execute_result"
    }
   ],
   "source": [
    "# The number of dice to roll in each turn\n",
    "\n",
    "nodice = 2\n",
    "\n",
    "# The number of times the dice are thrown\n",
    "\n",
    "nothrows = 10000\n",
    "\n",
    "# Roll the dice\n",
    "\n",
    "multipledice = np.random.randint(1, 7, (nothrows, nodice))\n",
    "\n",
    "multipledice\n"
   ]
  },
  {
   "cell_type": "code",
   "execution_count": 13,
   "id": "600c50bc",
   "metadata": {},
   "outputs": [
    {
     "data": {
      "text/plain": [
       "70042"
      ]
     },
     "execution_count": 13,
     "metadata": {},
     "output_type": "execute_result"
    }
   ],
   "source": [
    "# sum the face of the dice\n",
    "\n",
    "# numpy likes to have methods to do things on your behalf\n",
    "# So it is a particular way of thinking\n",
    " \n",
    "totals = np.sum(multipledice)  # numpy.sum(dice)\n",
    "totals\n"
   ]
  },
  {
   "cell_type": "code",
   "execution_count": 14,
   "id": "7656017c",
   "metadata": {},
   "outputs": [
    {
     "data": {
      "text/plain": [
       "70042"
      ]
     },
     "execution_count": 14,
     "metadata": {},
     "output_type": "execute_result"
    }
   ],
   "source": [
    "# Alternatively \n",
    "\n",
    "totals2 = multipledice.sum()\n",
    "\n",
    "totals2"
   ]
  },
  {
   "cell_type": "code",
   "execution_count": 15,
   "id": "c258d7e4",
   "metadata": {},
   "outputs": [
    {
     "data": {
      "text/plain": [
       "array([ 9,  7,  6, ..., 10, 12,  5])"
      ]
     },
     "execution_count": 15,
     "metadata": {},
     "output_type": "execute_result"
    }
   ],
   "source": [
    "# the above is not what we want - this has gone in an added together each individual number\n",
    "# we want a total per number\n",
    "\n",
    "\n",
    "# axis = 1 / go along the first axis and add those together - no of dice\n",
    "# axis = 0 / will go along the colums and add those together\n",
    "totals3 = np.sum(multipledice, axis=1)  \n",
    "totals3"
   ]
  },
  {
   "cell_type": "code",
   "execution_count": 16,
   "id": "ae2ec122",
   "metadata": {},
   "outputs": [
    {
     "data": {
      "text/plain": [
       "(array([ 2,  3,  4,  5,  6,  7,  8,  9, 10, 11, 12]),\n",
       " array([ 259,  543,  811, 1118, 1434, 1695, 1395, 1093,  844,  541,  267],\n",
       "       dtype=int64))"
      ]
     },
     "execution_count": 16,
     "metadata": {},
     "output_type": "execute_result"
    }
   ],
   "source": [
    "faces, counts = np.unique(totals3, return_counts=True)\n",
    "faces, counts"
   ]
  },
  {
   "cell_type": "code",
   "execution_count": 17,
   "id": "53a8123d",
   "metadata": {},
   "outputs": [
    {
     "data": {
      "image/png": "[encoded data removed]",
      "text/plain": [
       "<Figure size 432x288 with 1 Axes>"
      ]
     },
     "metadata": {
      "needs_background": "light"
     },
     "output_type": "display_data"
    }
   ],
   "source": [
    "# Plot\n",
    "\n",
    "fig, ax = plt.subplots()\n",
    "ax.bar(faces, counts)\n",
    "ax.set_ylabel('Face')\n",
    "ax.set_xlabel('Count');"
   ]
  },
  {
   "cell_type": "markdown",
   "id": "e607e902",
   "metadata": {},
   "source": [
    "### Multiple Dice\n",
    "\n",
    "***"
   ]
  },
  {
   "cell_type": "code",
   "execution_count": 18,
   "id": "3a90d6de",
   "metadata": {},
   "outputs": [
    {
     "data": {
      "image/png": "[encoded data removed]",
      "text/plain": [
       "<Figure size 432x288 with 1 Axes>"
      ]
     },
     "metadata": {
      "needs_background": "light"
     },
     "output_type": "display_data"
    }
   ],
   "source": [
    "# This is the final and total code - and you can change the variables and look at the outcomes\n",
    "\n",
    "\n",
    "nodice = 10\n",
    "\n",
    "noturns = 1000\n",
    "\n",
    "dice = np.random.randint(1, 7, (noturns, nodice))\n",
    "\n",
    "totals = np.sum(dice, axis=1)\n",
    "\n",
    "faces, counts = np.unique(totals,return_counts=True)\n",
    "\n",
    "fig, ax = plt.subplots()\n",
    "\n",
    "ax.bar(faces, counts)\n",
    "\n",
    "ax.set_ylabel(\"Face Total\")\n",
    "ax.set_xlabel(\"Count\");"
   ]
  },
  {
   "cell_type": "code",
   "execution_count": null,
   "id": "e5c582dc",
   "metadata": {},
   "outputs": [],
   "source": []
  }
 ],
 "metadata": {
  "kernelspec": {
   "display_name": "Python 3",
   "language": "python",
   "name": "python3"
  },
  "language_info": {
   "codemirror_mode": {
    "name": "ipython",
    "version": 3
   },
   "file_extension": ".py",
   "mimetype": "text/x-python",
   "name": "python",
   "nbconvert_exporter": "python",
   "pygments_lexer": "ipython3",
   "version": "3.8.8"
  }
 },
 "nbformat": 4,
 "nbformat_minor": 5
}
