{
 "cells": [
  {
   "cell_type": "markdown",
   "id": "9f439bdc",
   "metadata": {},
   "source": [
    "# COA Points 2019\n",
    "\n",
    "\n",
    "> http://www.cao.ie/index.php?page=points&p=2019\n",
    "\n",
    "> This is a PDF (1st Dec 2021)\n",
    "\n",
    "Additional:\n",
    "    \n",
    "> https://camelot-py.readthedocs.io/en/master/"
   ]
  },
  {
   "cell_type": "markdown",
   "id": "8f1c66e8",
   "metadata": {},
   "source": [
    "With a PDF it is trickier to save down and keep the original using python.\n",
    "\n",
    "There is a different pythin packages which you can use including tabula.\n",
    "\n",
    "> https://pypi.org/project/tabula-py/\n",
    "\n",
    "( you will need java for tabula)\n",
    "\n",
    "\n",
    "We will not be downloading these packagesto work with PDF's we will manually get the data.\n"
   ]
  },
  {
   "cell_type": "markdown",
   "id": "9d8b33f7",
   "metadata": {},
   "source": [
    "*****\n",
    "\n",
    "To start we need to manally save down the data to your file, unlike Excel or HTML.\n",
    "\n",
    "This will be saved as an adobe file.\n",
    "\n",
    "copy and pasting from the PDF - to Excel will not work very cleanly. It will also not work copy and paste in to notebook ++.\n",
    "\n",
    "****\n",
    "\n",
    "Right click on the PDF and open with Microsoft Word as opposed to Adobe.\n",
    "\n",
    "for Saving - \n",
    "\n",
    "Save the original PDF\n",
    "Save the original converted Word Doc\n",
    "Save another word doc with edited in name so you know that this is the one you have worked on.\n",
    "\n",
    "These three versions allow you to have a way back if there are any mistakes / issues.\n",
    "\n",
    "\n",
    "****\n",
    "\n"
   ]
  },
  {
   "cell_type": "markdown",
   "id": "006d8470",
   "metadata": {},
   "source": [
    "*****\n",
    "\n",
    "Steps (Quick Overview)\n",
    "\n",
    "1. Download PDF\n",
    "2. Open PDF with Word\n",
    "3. Save Word Converted File in correct data name format (didnt do)\n",
    "4. Re-save another copy of the Coverted Word Doc with Edited in Title\n",
    "5. Delete Headers & Footers\n",
    "6. Delete Preample on pg1 - into text\n",
    "\n",
    "\n",
    "7. I could copy and paste to a notepad++ doc\n",
    "8. Remove HEI name headings and paste into each course line ( not going to do )\n",
    "9. Delete blank lines\n",
    "10. Replace tab characters with commas\n",
    "11. "
   ]
  },
  {
   "cell_type": "code",
   "execution_count": null,
   "id": "83c1ed69",
   "metadata": {},
   "outputs": [],
   "source": []
  },
  {
   "cell_type": "code",
   "execution_count": null,
   "id": "3c6aefd6",
   "metadata": {},
   "outputs": [],
   "source": []
  },
  {
   "cell_type": "code",
   "execution_count": null,
   "id": "35e3f0c1",
   "metadata": {},
   "outputs": [],
   "source": []
  },
  {
   "cell_type": "code",
   "execution_count": null,
   "id": "d18f69b9",
   "metadata": {},
   "outputs": [],
   "source": []
  },
  {
   "cell_type": "code",
   "execution_count": null,
   "id": "862c2013",
   "metadata": {},
   "outputs": [],
   "source": []
  },
  {
   "cell_type": "code",
   "execution_count": null,
   "id": "66a4f06a",
   "metadata": {},
   "outputs": [],
   "source": []
  },
  {
   "cell_type": "code",
   "execution_count": null,
   "id": "68f744ef",
   "metadata": {},
   "outputs": [],
   "source": []
  },
  {
   "cell_type": "code",
   "execution_count": null,
   "id": "b2c50a44",
   "metadata": {},
   "outputs": [],
   "source": []
  },
  {
   "cell_type": "code",
   "execution_count": null,
   "id": "2baae21d",
   "metadata": {},
   "outputs": [],
   "source": []
  },
  {
   "cell_type": "code",
   "execution_count": null,
   "id": "80b17209",
   "metadata": {},
   "outputs": [],
   "source": []
  },
  {
   "cell_type": "code",
   "execution_count": null,
   "id": "14adf07c",
   "metadata": {},
   "outputs": [],
   "source": []
  },
  {
   "cell_type": "code",
   "execution_count": null,
   "id": "eb84057e",
   "metadata": {},
   "outputs": [],
   "source": []
  },
  {
   "cell_type": "code",
   "execution_count": null,
   "id": "960268bf",
   "metadata": {},
   "outputs": [],
   "source": []
  },
  {
   "cell_type": "code",
   "execution_count": null,
   "id": "ef58c169",
   "metadata": {},
   "outputs": [],
   "source": []
  },
  {
   "cell_type": "markdown",
   "id": "cef52644",
   "metadata": {},
   "source": [
    "# Notes:\n",
    "\n",
    "> Do I need to do level 6 + 7? or just 8?\n",
    "\n",
    "> Would this additional data mess it all up?\n",
    "\n",
    "> Do I have time?!? - NO!!!! FML"
   ]
  },
  {
   "cell_type": "code",
   "execution_count": null,
   "id": "d703012b",
   "metadata": {},
   "outputs": [],
   "source": []
  }
 ],
 "metadata": {
  "kernelspec": {
   "display_name": "Python 3",
   "language": "python",
   "name": "python3"
  },
  "language_info": {
   "codemirror_mode": {
    "name": "ipython",
    "version": 3
   },
   "file_extension": ".py",
   "mimetype": "text/x-python",
   "name": "python",
   "nbconvert_exporter": "python",
   "pygments_lexer": "ipython3",
   "version": "3.8.8"
  }
 },
 "nbformat": 4,
 "nbformat_minor": 5
}
