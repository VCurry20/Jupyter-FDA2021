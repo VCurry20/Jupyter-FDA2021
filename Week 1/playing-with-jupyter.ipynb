{
 "cells": [
  {
   "cell_type": "code",
   "execution_count": 1,
   "id": "b15a7759-f67c-4889-8f62-7c0ba333527e",
   "metadata": {},
   "outputs": [],
   "source": [
    "i = 1\n",
    "j = 2 \n"
   ]
  },
  {
   "cell_type": "code",
   "execution_count": 2,
   "id": "a94a5fc8-e3af-44dc-92a1-83bf94dff619",
   "metadata": {},
   "outputs": [],
   "source": [
    "k = i + j\n"
   ]
  },
  {
   "cell_type": "code",
   "execution_count": 3,
   "id": "7551d8b0-846b-4442-a615-ccb6bb4d6f7f",
   "metadata": {},
   "outputs": [
    {
     "data": {
      "text/plain": [
       "3"
      ]
     },
     "execution_count": 3,
     "metadata": {},
     "output_type": "execute_result"
    }
   ],
   "source": [
    "k"
   ]
  },
  {
   "cell_type": "markdown",
   "id": "90b9993a-db78-44b3-8aa7-e06c8d4f6769",
   "metadata": {},
   "source": [
    "Have changed this cell to a Markdown box - formatted txt\n",
    "\n",
    "# I am a Heading\n",
    "\n",
    "- I am a list\n",
    "- I am still a list \n",
    "- List for life\n",
    "\n",
    "![](https://icon-library.com/images/foto-icon/foto-icon-22.jpg)\n",
    "\n",
    "\n",
    "**Bold Text**\n",
    "\n",
    "I am now going tohold down shift and enter and this has been executed\n",
    "\n"
   ]
  },
  {
   "cell_type": "code",
   "execution_count": null,
   "id": "28c71520-d0f6-4287-8f2b-2ec4d882813a",
   "metadata": {},
   "outputs": [],
   "source": []
  }
 ],
 "metadata": {
  "kernelspec": {
   "display_name": "Python 3",
   "language": "python",
   "name": "python3"
  },
  "language_info": {
   "codemirror_mode": {
    "name": "ipython",
    "version": 3
   },
   "file_extension": ".py",
   "mimetype": "text/x-python",
   "name": "python",
   "nbconvert_exporter": "python",
   "pygments_lexer": "ipython3",
   "version": "3.8.8"
  }
 },
 "nbformat": 4,
 "nbformat_minor": 5
}
