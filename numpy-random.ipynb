{
 "cells": [
  {
   "cell_type": "markdown",
   "id": "9eba5b75-9d46-41e8-aac1-26b3f485fb39",
   "metadata": {},
   "source": [
    "# The Numpy random package\n",
    "\n",
    "[Package Documentation](https://numpy.org/doc/stable/reference/random/index.html)\n",
    "***\n"
   ]
  },
  {
   "cell_type": "code",
   "execution_count": 1,
   "id": "b8e8f5fb-9225-4861-8787-cfffae230e2e",
   "metadata": {},
   "outputs": [],
   "source": [
    "# numpy is for efficient numerical arrays\n",
    "\n",
    "import numpy as np\n",
    "\n",
    "# for plotting\n",
    "\n",
    "import matplotlib.pyplot as plt\n"
   ]
  },
  {
   "cell_type": "code",
   "execution_count": 2,
   "id": "e69a6171-d496-473c-86d3-945be80ecca1",
   "metadata": {},
   "outputs": [],
   "source": [
    "# add style\n",
    "\n",
    "plt.style.use('ggplot')\n",
    "\n",
    "\n",
    "\n",
    "# add confirations here\n",
    "\n",
    "plt.rcParams['figure.figsize'] = [12,8]\n",
    "\n",
    "\n"
   ]
  },
  {
   "cell_type": "markdown",
   "id": "f9a07e32-63f7-4276-985a-4f4ba1dcb176",
   "metadata": {},
   "source": [
    "Seeding is important in random nuber generation [1]."
   ]
  },
  {
   "cell_type": "markdown",
   "id": "31c10129-681e-42bb-95c7-d965c1282ffd",
   "metadata": {},
   "source": [
    "<br>\n",
    "\n",
    "## numpy.random.normal\n",
    "\n",
    "https://numpy.org/doc/stable/reference/random/generated/numpy.random.normal.html\n",
    "\n",
    "***\n",
    "\n"
   ]
  },
  {
   "cell_type": "code",
   "execution_count": 3,
   "id": "87885e58-14bc-449e-955e-f55fd55e924b",
   "metadata": {},
   "outputs": [],
   "source": [
    "mu, sigma = 0, 0.1 # mean and standard deviation\n",
    "\n",
    "s = np.random.normal(mu, sigma, 1000)"
   ]
  },
  {
   "cell_type": "code",
   "execution_count": 4,
   "id": "5df537a3-13d2-4722-96cc-18fa553fa803",
   "metadata": {
    "scrolled": true,
    "tags": []
   },
   "outputs": [
    {
     "data": {
      "text/plain": [
       "array([-7.03507539e-02,  5.18949942e-02,  3.77779309e-02,  9.74634744e-03,\n",
       "        4.77559105e-02,  1.68998877e-01,  1.24844226e-01,  2.94471133e-01,\n",
       "       -1.58714518e-01,  1.54933861e-01,  1.30404576e-01,  1.86242327e-01,\n",
       "       -5.26314448e-02, -3.26729148e-02,  1.61014101e-01,  4.43671595e-02,\n",
       "       -2.67534683e-03,  8.17103290e-02,  9.72452357e-02,  6.08466898e-03,\n",
       "        4.71653982e-03,  1.06061817e-02,  2.36743011e-02, -1.82933919e-01,\n",
       "       -7.75888472e-02,  1.62822595e-01,  1.20524108e-01,  1.92298284e-02,\n",
       "       -9.41095038e-02, -7.06497948e-02, -9.40717790e-02, -7.63763680e-02,\n",
       "       -6.99004728e-03, -1.25258554e-02,  1.31568509e-01,  1.60106024e-01,\n",
       "        2.28538229e-02,  1.25083115e-02,  2.00723941e-02,  1.39382034e-01,\n",
       "        1.48883751e-02,  1.01389418e-01, -5.26611248e-02, -4.09263472e-02,\n",
       "        8.30861723e-02, -3.99740785e-02, -1.07821824e-01,  6.85198752e-02,\n",
       "        6.87459134e-03, -1.07775954e-01,  2.87235562e-02,  6.74292245e-02,\n",
       "       -5.61069853e-02,  7.80702047e-02, -1.78354134e-01, -3.56220836e-02,\n",
       "        4.51328543e-02, -4.66016870e-02, -2.50635516e-02, -6.78795335e-02,\n",
       "       -1.78309430e-01, -1.66214464e-01,  1.19396826e-01,  1.10704547e-01,\n",
       "       -5.89966845e-02, -3.68478176e-02, -8.72002021e-02, -9.92438218e-02,\n",
       "        2.66713438e-02, -9.04413143e-02, -1.99929702e-02, -6.26843263e-02,\n",
       "       -8.03351301e-02, -3.07390864e-02,  1.45319579e-01, -8.12485478e-03,\n",
       "       -1.47249664e-02,  9.87562643e-02, -4.07178125e-02,  2.28084485e-02,\n",
       "        9.40575045e-02,  2.11122757e-02, -1.87927929e-01,  1.22173176e-01,\n",
       "        2.31768394e-01,  3.76631422e-02,  4.75715058e-02, -3.16586298e-02,\n",
       "       -1.01070933e-02,  1.51796804e-02,  1.37094232e-01, -1.14542001e-01,\n",
       "        1.84272325e-02, -2.58198838e-01, -1.20566919e-01,  6.45936018e-02,\n",
       "       -2.31809562e-01, -3.15794387e-02, -1.51603501e-01, -2.07774196e-01,\n",
       "        2.40312872e-02,  1.71862106e-01, -4.02388254e-02,  1.44469607e-01,\n",
       "        7.27769262e-02, -1.31082518e-01, -8.70471624e-02,  9.71778395e-02,\n",
       "       -1.84788167e-01,  2.10487645e-02, -3.22547566e-02, -1.08083301e-01,\n",
       "       -1.72600005e-01,  4.47732179e-02, -4.53516926e-02,  1.52241741e-02,\n",
       "        5.73362934e-02,  8.97166157e-02, -5.47350080e-02, -6.70781997e-02,\n",
       "        1.50165298e-01, -1.13399767e-02, -3.43725756e-02,  1.11769187e-01,\n",
       "       -1.52153213e-01, -2.15716419e-02,  2.73834789e-01, -6.76864713e-02,\n",
       "        4.15971126e-02, -1.17426883e-01,  2.76544686e-02,  1.78680583e-01,\n",
       "       -8.02256365e-02,  1.31686386e-01, -8.69125230e-02,  1.91081876e-02,\n",
       "        6.01328165e-02, -9.42190064e-02,  1.56180828e-01, -1.34725520e-01,\n",
       "        2.12874471e-01,  4.32970239e-02, -1.81899476e-02, -7.25995833e-02,\n",
       "       -3.95988313e-02, -8.83041138e-02, -1.69810616e-01,  2.10486472e-01,\n",
       "       -3.05252204e-02, -1.20872216e-01,  2.14848145e-01,  1.05978142e-01,\n",
       "       -4.93172811e-02,  5.03238371e-02, -1.38133932e-01, -5.02171347e-02,\n",
       "       -2.62575511e-03, -8.86705297e-02, -1.69863551e-02, -1.06516175e-02,\n",
       "       -1.66037118e-01,  1.05073780e-01, -4.39679146e-02,  4.95986898e-02,\n",
       "       -7.80553133e-03, -6.53459602e-02, -1.66904168e-01, -2.73241202e-01,\n",
       "        3.59910745e-02, -9.16234763e-02, -1.71587882e-01, -3.55316127e-02,\n",
       "       -1.25659436e-01, -3.50909184e-02, -9.47842908e-02, -7.81794998e-02,\n",
       "        3.48251699e-02, -1.09744749e-01, -7.31293777e-02,  1.35389079e-01,\n",
       "       -6.43318594e-02,  5.54541176e-02,  9.48155519e-02,  5.70559689e-02,\n",
       "        9.07281732e-02, -1.98238364e-01, -1.39476056e-02, -1.70632492e-01,\n",
       "        1.46114085e-02,  1.55625141e-02, -1.85172618e-01, -1.76716715e-01,\n",
       "       -2.85459592e-02,  5.28765940e-02, -1.26190619e-02,  3.31156554e-02,\n",
       "       -6.08926350e-02, -2.19524951e-01,  1.28802033e-03,  2.91070949e-02,\n",
       "       -1.06073158e-01,  7.67278915e-03, -6.60661471e-02,  5.36602278e-02,\n",
       "        7.17013055e-02,  9.32335330e-02, -3.70112523e-01,  2.24062089e-01,\n",
       "       -8.96520725e-02,  1.20774850e-01, -1.67927990e-01, -1.52185535e-01,\n",
       "       -1.29067180e-01,  2.50375571e-01, -3.82578621e-02, -7.80225601e-02,\n",
       "        4.27756266e-02,  1.08144071e-01,  1.72986532e-02, -2.91271218e-02,\n",
       "       -1.56930430e-02,  6.54333023e-02,  4.02199076e-02,  8.80189022e-03,\n",
       "        8.85710704e-02,  1.23706505e-02,  1.71465126e-01,  9.41206143e-02,\n",
       "       -9.00993198e-02,  2.64449283e-02,  1.37226869e-02, -6.40798678e-02,\n",
       "        1.10739171e-02, -7.56281134e-02,  6.37405623e-02,  1.55561788e-01,\n",
       "       -1.29857757e-02,  6.01886075e-03, -5.70390124e-02, -1.66892177e-01,\n",
       "       -1.20542591e-02,  1.65188479e-01, -7.97182184e-02, -1.06527563e-01,\n",
       "        1.22772491e-01, -1.26824825e-01, -8.32278790e-02,  2.42316477e-03,\n",
       "       -4.68320155e-02,  1.02568126e-01,  2.07978000e-01,  2.44448205e-02,\n",
       "        3.18894915e-02, -1.32963959e-01, -2.28376446e-02, -2.23422238e-02,\n",
       "       -9.08885557e-02, -3.44087597e-03, -1.06394471e-02,  7.77133596e-03,\n",
       "       -7.53206353e-02,  1.18006982e-01,  1.00344275e-01,  5.51311272e-02,\n",
       "       -4.20102097e-02,  2.77380472e-02, -3.37328348e-02, -2.98518592e-02,\n",
       "       -1.94354243e-01,  1.17834596e-01, -3.92597257e-04, -1.11152606e-01,\n",
       "        2.36202220e-02,  7.53878681e-02,  8.90569368e-02,  4.42177415e-02,\n",
       "        7.81522983e-02, -6.95579938e-02,  2.43370226e-01,  6.27639168e-02,\n",
       "        1.81067104e-01, -4.44951078e-02, -1.08915279e-01, -3.39514622e-02,\n",
       "        1.08753703e-01, -1.62105373e-01,  3.39801879e-02,  5.08571810e-02,\n",
       "        1.07346096e-01, -1.30196075e-01,  6.17119619e-02, -3.91590114e-02,\n",
       "        9.55057401e-02, -4.81353557e-03, -1.10655660e-01, -2.97093535e-02,\n",
       "        1.78776412e-02,  1.32715099e-01,  1.23877813e-01,  1.79641138e-01,\n",
       "        3.27857396e-02,  5.54647920e-03,  1.44206618e-01,  4.00610499e-02,\n",
       "        7.07708928e-02,  5.16027802e-02,  9.97187777e-02, -4.12715605e-02,\n",
       "        8.31156210e-03,  5.75141406e-02, -9.56367490e-02, -1.23864663e-01,\n",
       "       -6.55383191e-02,  3.61460199e-02, -8.39943699e-02, -3.06245585e-02,\n",
       "        5.21673810e-02, -1.38533450e-01, -9.76611899e-02,  2.72981239e-01,\n",
       "       -1.39538810e-01, -1.05384216e-01, -1.00494359e-01, -2.33344384e-02,\n",
       "        1.08579221e-01,  3.29594923e-03, -2.79577915e-02,  3.85750079e-02,\n",
       "        9.66676230e-02,  2.05406484e-01, -1.20891018e-01, -2.15399297e-02,\n",
       "        5.32932142e-02,  2.33033016e-02, -1.19876239e-02, -2.94637615e-02,\n",
       "        7.34669606e-02, -5.33760644e-02, -4.42113629e-02, -1.35512614e-01,\n",
       "        1.12788504e-01,  1.34643308e-01,  5.99088848e-02, -1.67371392e-01,\n",
       "        1.36987515e-03, -1.58261335e-01, -3.93681163e-02, -3.53571434e-02,\n",
       "       -1.02936744e-01, -1.61321487e-01, -2.74435376e-01,  6.38370795e-02,\n",
       "       -3.11613039e-02,  2.53830202e-02, -1.43019000e-01, -1.15697030e-01,\n",
       "       -1.10209103e-01, -4.88764074e-02,  5.69747797e-02, -4.66990266e-02,\n",
       "       -8.43252904e-02,  8.62725478e-02,  8.35441972e-02, -8.18590608e-02,\n",
       "        1.48021719e-01,  8.42748461e-02,  2.22558090e-01,  1.57198955e-01,\n",
       "        4.14962664e-02,  5.48284638e-02, -3.62285086e-02, -6.40881328e-02,\n",
       "        6.93559395e-03, -1.47280672e-01, -7.20782821e-02, -4.12622251e-02,\n",
       "        4.30244697e-02,  2.05941955e-01,  2.24869640e-04, -1.62063551e-01,\n",
       "       -2.06413687e-03, -1.98482848e-01, -1.55990551e-01, -6.34562340e-02,\n",
       "       -1.44903749e-01,  1.00885252e-01,  1.60171739e-01, -3.97047531e-02,\n",
       "        8.23825543e-02, -1.28301130e-01, -3.79995838e-02, -4.44580285e-02,\n",
       "        4.57446212e-02, -9.90181021e-02,  8.12913892e-02,  5.25187398e-02,\n",
       "       -6.28928759e-02,  1.61625668e-01, -4.13330335e-02, -1.19250978e-02,\n",
       "        1.23564211e-01, -2.99490570e-02,  1.17516126e-01, -5.26578822e-02,\n",
       "       -2.04803441e-02,  7.38155109e-02,  3.42339102e-02, -6.92254147e-02,\n",
       "        1.61849899e-01, -1.05868549e-01, -1.22942149e-01,  2.27937686e-01,\n",
       "        1.05499028e-01, -1.16939523e-01,  3.95813041e-02,  7.38397693e-02,\n",
       "        9.69928413e-02,  1.02586158e-01,  3.12508126e-02,  9.32222623e-03,\n",
       "        1.43024331e-01,  6.37575451e-02,  1.25969847e-01,  1.22404564e-01,\n",
       "       -1.37192181e-01, -8.87302406e-02,  8.17886540e-02,  1.07886958e-01,\n",
       "       -1.14751451e-02,  1.25773191e-01, -2.70492698e-02, -1.66478111e-01,\n",
       "        7.20190779e-03,  1.18313768e-01,  9.52029502e-03, -5.66923684e-02,\n",
       "        8.21970833e-03,  4.60880085e-02,  1.32802054e-01, -1.51232629e-01,\n",
       "       -6.20096144e-02,  1.31399913e-02, -8.61757481e-03,  1.98357564e-01,\n",
       "       -5.05308373e-02,  7.03317242e-02,  6.44450623e-02, -3.37048791e-02,\n",
       "       -1.82137600e-01,  7.29035983e-02, -2.98658133e-02, -5.42516961e-02,\n",
       "       -1.34865303e-01,  5.56402146e-03,  1.48855634e-01, -1.58884533e-02,\n",
       "       -1.68526107e-02,  9.14608040e-02,  2.13720487e-01, -3.07142902e-02,\n",
       "       -1.09851376e-02,  4.76585973e-02,  8.18951310e-02, -2.02395558e-01,\n",
       "       -8.39605085e-02, -1.47240468e-01, -5.89295675e-02, -6.82155790e-02,\n",
       "        8.83685966e-02,  4.43092960e-02, -3.49524051e-01,  1.35142936e-01,\n",
       "       -1.35549602e-02,  1.60402211e-01, -1.04848538e-01, -1.36447838e-01,\n",
       "       -6.75150740e-02, -1.19824698e-01, -3.90402929e-02,  8.64492233e-02,\n",
       "        1.51361898e-01, -1.99853888e-02, -1.24521522e-01, -9.10119644e-02,\n",
       "        2.88036773e-02, -5.15877965e-02, -7.92569840e-02, -1.15486672e-03,\n",
       "        3.65910442e-02,  1.61779163e-01,  1.32642573e-01,  7.89809220e-02,\n",
       "       -1.63734327e-02, -2.70075521e-01,  4.89236643e-02, -1.27455328e-01,\n",
       "       -9.56268243e-02, -5.14930097e-02, -7.07857980e-03,  1.06516820e-02,\n",
       "       -7.04992793e-02, -6.21369099e-02,  7.11644536e-02,  1.75847374e-01,\n",
       "        5.47008226e-02,  6.01172392e-03, -2.31599080e-02, -1.50569394e-01,\n",
       "        2.97875040e-02,  2.43902404e-01,  8.38217501e-02,  3.99953521e-02,\n",
       "        4.84405558e-02, -8.63754733e-02, -5.76302055e-02,  5.19748787e-02,\n",
       "       -1.76392010e-01, -9.07296925e-02,  1.32653764e-01, -6.50464952e-02,\n",
       "        1.60759473e-01, -1.16800305e-01,  2.07075632e-02,  6.64653307e-02,\n",
       "       -8.24604770e-02, -1.38956632e-02,  1.37502474e-01,  3.93489551e-02,\n",
       "       -8.62989519e-03,  7.53476546e-03, -1.12230443e-01, -5.37889181e-02,\n",
       "        3.22019765e-02, -1.04673050e-01,  2.84860504e-01,  6.26342824e-03,\n",
       "        1.18170566e-01, -2.47774676e-02,  8.32256400e-02,  3.29344507e-02,\n",
       "       -9.28337319e-02,  7.63635624e-02,  2.49740523e-02,  3.68478260e-02,\n",
       "        1.82649795e-01, -7.49551914e-03,  6.92878953e-02,  5.28069085e-02,\n",
       "        6.15462282e-02, -3.00589111e-02, -5.30166579e-02,  2.88768810e-02,\n",
       "        1.55829311e-01,  1.22859956e-01, -1.61271906e-02, -5.09393012e-02,\n",
       "       -1.47952314e-01,  2.12462374e-01, -3.41270959e-02, -9.38564578e-03,\n",
       "        1.04372234e-01, -4.66760220e-02,  1.18661303e-01,  1.87683368e-01,\n",
       "        3.51623224e-01,  5.99837543e-02,  2.35438832e-01, -1.30906537e-01,\n",
       "       -5.93935087e-02, -5.04185137e-02, -1.37730516e-01, -1.63232022e-01,\n",
       "       -6.53202781e-02,  3.30725080e-03,  7.33406524e-02,  1.34330865e-01,\n",
       "        3.06411590e-03,  3.10744309e-03,  9.39974667e-02,  1.22439873e-01,\n",
       "       -1.23512309e-01, -1.51704082e-01, -4.96652436e-02, -3.03738336e-02,\n",
       "       -1.09192418e-02, -6.09035761e-02,  8.98480402e-05, -5.74599404e-02,\n",
       "       -1.04116358e-02,  4.58443516e-02,  7.27019511e-02,  4.10696942e-02,\n",
       "        5.97820754e-02,  7.34954097e-02, -4.50157686e-02,  1.39137273e-02,\n",
       "        9.37998625e-02,  7.55782871e-02,  1.68164708e-01, -1.12529228e-01,\n",
       "       -6.03030375e-02, -2.83573091e-02, -2.64914038e-01, -4.45629132e-02,\n",
       "        3.31138806e-02,  5.06319422e-02, -9.06682588e-02, -6.55047443e-03,\n",
       "       -1.70035156e-01,  1.92287854e-01, -8.36096101e-03,  5.57655102e-02,\n",
       "       -6.88848391e-04,  1.83909316e-01, -1.02309427e-01, -2.03411604e-01,\n",
       "       -1.35650762e-01, -6.84882945e-02, -4.67979753e-04,  5.44984584e-02,\n",
       "       -1.16334319e-01,  1.29823376e-01,  1.57730492e-01, -1.30561788e-01,\n",
       "        1.19398345e-01,  5.11867758e-02,  7.81196067e-02, -1.46285523e-01,\n",
       "        8.94791591e-02,  8.98676688e-03,  9.65822659e-02, -6.02257795e-02,\n",
       "       -1.49318869e-01,  7.85647263e-02,  7.38315788e-03, -5.61960496e-02,\n",
       "        2.27909004e-03, -7.74216669e-02,  2.62479714e-01,  2.64860050e-02,\n",
       "       -7.80412459e-02, -1.13221247e-02, -8.11537419e-02, -1.95955303e-01,\n",
       "       -4.90546769e-02, -8.72838360e-02,  4.43380071e-02, -2.79419721e-04,\n",
       "       -7.38725415e-02, -5.13784189e-03, -8.82579679e-05,  2.34462691e-01,\n",
       "        1.95766115e-02, -6.78952859e-02, -7.97843230e-02,  6.43894168e-02,\n",
       "        3.06216592e-02,  4.61757163e-02,  1.45897735e-01,  1.46806871e-01,\n",
       "       -1.26768551e-01, -4.92718270e-02, -6.95344181e-02,  3.59390216e-02,\n",
       "        6.40903324e-02, -4.48988783e-02, -1.78549363e-01, -1.28992547e-01,\n",
       "       -1.53149465e-01,  3.94421735e-02, -3.14938839e-02,  1.23058178e-01,\n",
       "       -2.56763851e-02,  8.66243558e-02, -8.07385702e-02,  4.61794149e-02,\n",
       "        6.78887187e-04, -8.63435478e-02,  1.36510165e-01, -5.31253769e-02,\n",
       "        1.36036738e-01,  1.40785262e-01, -1.44303998e-01,  1.44058123e-01,\n",
       "       -8.73083126e-02,  4.04098908e-02,  6.59116124e-02,  1.17178001e-01,\n",
       "        3.83976508e-02, -5.97908773e-04, -1.22708983e-01, -1.35737360e-01,\n",
       "       -5.41647816e-02,  2.50688199e-03, -4.50696166e-02,  1.22631729e-02,\n",
       "       -1.66953449e-02,  4.98551287e-02,  1.38572721e-01,  4.41580884e-02,\n",
       "       -1.61660116e-01, -1.05210030e-01, -5.64654235e-02,  8.67797530e-02,\n",
       "        3.13305266e-02,  9.89553233e-02,  1.14072901e-01,  1.75799942e-01,\n",
       "       -1.28776078e-01, -6.76888790e-02,  2.50214867e-02,  6.69128877e-02,\n",
       "        1.27998775e-01, -9.38587923e-02,  1.73111615e-02,  1.32486569e-01,\n",
       "       -5.31986207e-02,  7.79180558e-02, -5.28031282e-02,  7.26136996e-02,\n",
       "        7.58674564e-02, -7.43895895e-02, -2.07979617e-02, -1.94211921e-02,\n",
       "        2.65973167e-02, -1.44422298e-01, -6.29017397e-02,  3.17662642e-02,\n",
       "        5.44388278e-02,  8.73817911e-02, -3.43793981e-03,  2.73135096e-01,\n",
       "        6.18701055e-02, -1.39599142e-01,  8.28874097e-02, -7.97033062e-02,\n",
       "        6.45574406e-02,  9.49758465e-02,  3.99266610e-02,  4.51773215e-02,\n",
       "        7.63847428e-02,  1.70802237e-01, -3.15786409e-02, -6.60703705e-03,\n",
       "        8.72788749e-02,  8.81017041e-02, -1.39182725e-02,  6.68584319e-02,\n",
       "       -8.37304192e-02, -6.84226617e-03,  4.47989807e-02,  7.48278165e-02,\n",
       "        1.49307921e-01,  1.63896389e-01,  5.30195725e-02,  4.77941410e-02,\n",
       "       -2.92596195e-02,  1.81767894e-04,  1.43590097e-01, -1.60677295e-01,\n",
       "       -2.81235522e-02, -4.76200534e-02,  1.10770249e-01, -2.17835495e-01,\n",
       "       -4.92882609e-03, -3.89528939e-02, -9.19678435e-02,  1.74447167e-02,\n",
       "       -1.31680359e-02, -4.63096146e-02,  1.72004820e-01,  1.28787008e-01,\n",
       "        1.20277481e-01,  5.76620287e-02, -1.16608621e-01,  2.49380895e-01,\n",
       "        6.00239563e-02,  2.29524504e-02,  1.42516814e-03,  6.51633329e-02,\n",
       "       -4.48784162e-02,  4.71156615e-04,  1.20132250e-01, -7.30754650e-02,\n",
       "        1.34418724e-01,  6.32333249e-02, -2.84724805e-02,  1.34322839e-01,\n",
       "       -8.37794912e-03,  7.74444633e-02,  2.39445006e-02,  3.62326958e-02,\n",
       "        4.07461610e-02,  1.04773241e-01,  7.89445590e-02,  2.36389673e-01,\n",
       "        2.65911477e-02, -5.66006268e-02, -8.81566466e-02, -7.23501517e-02,\n",
       "       -2.86014823e-02,  9.21354285e-03, -6.27950898e-02, -2.41261577e-02,\n",
       "        5.87723191e-02, -1.36487024e-01, -1.60226265e-01, -4.01227788e-02,\n",
       "       -8.57868145e-02,  2.23945796e-03,  9.96163669e-03, -1.03908343e-01,\n",
       "        5.38629475e-02, -3.02952665e-02, -1.27794984e-02, -9.17723223e-02,\n",
       "       -4.00359285e-02, -3.00445191e-02,  1.27565289e-01, -2.30229006e-02,\n",
       "       -1.20846213e-01,  1.31572236e-02, -3.65839754e-03,  4.00554314e-02,\n",
       "       -4.21447713e-02, -3.83538379e-02, -4.35501124e-02,  7.93546108e-02,\n",
       "        1.00226359e-02, -3.31866824e-02, -9.81461122e-02,  6.84577017e-02,\n",
       "       -1.12481022e-02, -1.59733749e-01, -5.72142409e-02,  1.14250239e-01,\n",
       "        1.20922980e-01,  6.57867168e-03,  8.21188655e-02,  2.65474364e-01,\n",
       "       -5.42698083e-02,  1.96202151e-02, -4.55600156e-02, -4.21304221e-02,\n",
       "       -1.55439332e-02,  3.51898039e-02, -3.08974748e-02, -4.03888216e-02,\n",
       "       -2.65430563e-02,  2.45097361e-02,  2.35891241e-02,  8.44799686e-03,\n",
       "       -2.68267277e-01, -1.38037384e-01, -2.15298910e-03,  1.62440305e-01,\n",
       "       -2.23425022e-03, -1.87404253e-01, -5.65290821e-02,  2.49847980e-02,\n",
       "        1.21431660e-01, -1.34572830e-01,  3.29248371e-02,  3.47349818e-03,\n",
       "       -2.63260086e-02, -1.27217570e-01, -1.98733836e-02,  3.09040972e-02,\n",
       "       -5.51806339e-02, -1.47630129e-02,  3.31949667e-03, -1.52947626e-01,\n",
       "       -8.84308272e-02,  1.12429977e-01,  4.57052441e-02, -1.11615451e-02,\n",
       "        3.33885790e-02,  1.05817065e-01, -8.68327279e-02,  1.20781614e-01,\n",
       "        1.20080254e-01, -8.55284740e-02,  8.52402652e-02,  4.13019770e-02,\n",
       "       -8.17509892e-02,  3.49885389e-02,  2.63559447e-02,  7.23682555e-02,\n",
       "       -2.46626730e-02, -1.73680046e-01,  2.11723937e-03,  2.81928801e-02,\n",
       "       -1.11738831e-02, -3.79630941e-02,  9.61502549e-02, -8.50331374e-03,\n",
       "       -1.91248041e-02,  3.74039645e-02,  3.07073383e-02,  1.76269024e-01,\n",
       "        6.13862302e-02, -4.62148818e-02,  8.37148939e-03, -1.32348213e-01,\n",
       "       -1.19566952e-02, -5.40463268e-02, -6.18506492e-02, -7.63523941e-02,\n",
       "        1.45461935e-01, -2.89414016e-02, -9.87133536e-02, -1.08594651e-01,\n",
       "        1.68925509e-01,  8.03999737e-02, -1.35983719e-01, -3.13684295e-02,\n",
       "        1.22743731e-02, -1.95094937e-02,  1.79666116e-01,  1.06324347e-01,\n",
       "       -7.95311649e-02,  3.83392887e-02, -8.46596917e-02, -9.54165902e-02,\n",
       "        8.51688998e-02, -3.43910718e-02, -7.40975555e-02,  6.18320496e-02,\n",
       "        1.06480297e-01, -6.71610981e-03,  8.70096986e-02,  1.72951371e-01,\n",
       "       -1.18536032e-01,  1.23346385e-01,  1.86565103e-02, -4.86135097e-02,\n",
       "        5.35644898e-02, -1.12826211e-01,  2.12067135e-03, -3.38095541e-02,\n",
       "       -4.43325811e-03,  4.98398873e-02,  1.47013190e-01,  1.44276853e-02,\n",
       "        4.64716238e-02, -8.96296251e-02,  8.13564627e-02,  1.32446116e-01,\n",
       "       -2.89960331e-02,  5.25529921e-02, -9.70676974e-02,  9.11318692e-02,\n",
       "        6.44823346e-02,  2.96023416e-02,  3.28174576e-02, -2.81980518e-02,\n",
       "        2.32724040e-01,  7.17991302e-02,  6.19450563e-02,  1.22726268e-01,\n",
       "       -6.32715574e-02,  4.65807577e-02,  2.89657447e-02,  1.38259522e-02,\n",
       "        1.48088667e-02, -1.00515272e-01, -2.10331749e-02,  4.10036879e-02,\n",
       "       -1.21189347e-01, -1.75339694e-02,  4.48355062e-02,  1.75392509e-02,\n",
       "       -3.92504095e-02,  2.46592557e-02, -2.21444696e-02,  1.31264558e-01,\n",
       "        6.43157485e-02, -5.24432896e-02,  2.00552889e-02, -2.59165836e-01,\n",
       "       -2.45126310e-01, -5.85610884e-02, -8.88963671e-03,  8.06982755e-02,\n",
       "        3.40759241e-02, -1.38364047e-01, -1.78145211e-01,  2.26528021e-01,\n",
       "        1.01345081e-01, -1.10697420e-01, -2.26400656e-01, -1.21589392e-01,\n",
       "       -1.51550273e-01,  1.03707941e-01, -3.65457464e-02, -2.74103942e-01,\n",
       "       -2.96084599e-01, -1.11458406e-01, -1.73302380e-01,  5.99243177e-02])"
      ]
     },
     "execution_count": 4,
     "metadata": {},
     "output_type": "execute_result"
    }
   ],
   "source": [
    "# just looking what the data is in the background - right click to enable scrolling\n",
    "s\n"
   ]
  },
  {
   "cell_type": "code",
   "execution_count": 5,
   "id": "0237ec44-7c56-4a55-8c3d-6425199bd6ea",
   "metadata": {},
   "outputs": [
    {
     "data": {
      "text/plain": [
       "array([-0.07035075,  0.05189499,  0.03777793,  0.00974635,  0.04775591,\n",
       "        0.16899888,  0.12484423,  0.29447113, -0.15871452,  0.15493386])"
      ]
     },
     "execution_count": 5,
     "metadata": {},
     "output_type": "execute_result"
    }
   ],
   "source": [
    "# just looking at the first 10\n",
    "\n",
    "s[:10]"
   ]
  },
  {
   "cell_type": "code",
   "execution_count": 6,
   "id": "624f28b7-f771-4dc1-8c8c-3a8422295271",
   "metadata": {},
   "outputs": [
    {
     "data": {
      "text/plain": [
       "0.0"
      ]
     },
     "execution_count": 6,
     "metadata": {},
     "output_type": "execute_result"
    }
   ],
   "source": [
    "abs(mu - np.mean(s))\n",
    "\n",
    "0.0  # may vary"
   ]
  },
  {
   "cell_type": "code",
   "execution_count": 7,
   "id": "95f20f41-8f8e-47f5-bda1-e4e5d6873b65",
   "metadata": {},
   "outputs": [
    {
     "data": {
      "text/plain": [
       "0.1"
      ]
     },
     "execution_count": 7,
     "metadata": {},
     "output_type": "execute_result"
    }
   ],
   "source": [
    "abs(sigma - np.std(s, ddof=1))\n",
    "0.1  # may vary\n"
   ]
  },
  {
   "cell_type": "code",
   "execution_count": 8,
   "id": "70a5960c-5e29-42c1-bd52-f206794c1543",
   "metadata": {},
   "outputs": [
    {
     "data": {
      "image/png": "[encoded data removed]",
      "text/plain": [
       "<Figure size 864x576 with 1 Axes>"
      ]
     },
     "metadata": {},
     "output_type": "display_data"
    }
   ],
   "source": [
    "count, bins, ignored = plt.hist(s, 30, density=True)\n",
    "f = 1/(sigma * np.sqrt(2 * np.pi)) * np.exp(-(bins - mu)**2 / (2 * sigma**2))\n",
    "plt.plot(bins, f, linewidth=2,)\n",
    "plt.show()\n"
   ]
  },
  {
   "cell_type": "code",
   "execution_count": 9,
   "id": "a2156b94-b252-472c-9572-677c0ebf0f8d",
   "metadata": {},
   "outputs": [
    {
     "data": {
      "image/png": "[encoded data removed]",
      "text/plain": [
       "<Figure size 864x576 with 1 Axes>"
      ]
     },
     "metadata": {},
     "output_type": "display_data"
    }
   ],
   "source": [
    "import matplotlib.pyplot as plt\n",
    "count, bins, ignored = plt.hist(s, 30, density=True)\n",
    "plt.plot(bins, 1/(sigma * np.sqrt(2 * np.pi)) *\n",
    "               np.exp( - (bins - mu)**2 / (2 * sigma**2) ),\n",
    "         linewidth=2, color='r')\n",
    "plt.show()"
   ]
  },
  {
   "cell_type": "markdown",
   "id": "974000b6-af85-4b89-88c5-38001965f2f7",
   "metadata": {},
   "source": [
    "## References\n",
    "\n",
    "[1] Numpy Org, Random sampling (numpy.random), Sept 2021, https://numpy.org/doc/stable/reference/random/index.html\n"
   ]
  },
  {
   "cell_type": "markdown",
   "id": "3aefa263-42bd-467e-8f95-ee48e7623aa2",
   "metadata": {},
   "source": [
    "***\n",
    "## End"
   ]
  }
 ],
 "metadata": {
  "kernelspec": {
   "display_name": "Python 3",
   "language": "python",
   "name": "python3"
  },
  "language_info": {
   "codemirror_mode": {
    "name": "ipython",
    "version": 3
   },
   "file_extension": ".py",
   "mimetype": "text/x-python",
   "name": "python",
   "nbconvert_exporter": "python",
   "pygments_lexer": "ipython3",
   "version": "3.8.8"
  }
 },
 "nbformat": 4,
 "nbformat_minor": 5
}
