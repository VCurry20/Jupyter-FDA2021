{
 "cells": [
  {
   "cell_type": "code",
   "execution_count": 1,
   "id": "9e9edfa7-07c3-4d4e-a6b6-31663fda617e",
   "metadata": {},
   "outputs": [],
   "source": [
    "# trying previous code to see how it looks\n"
   ]
  },
  {
   "cell_type": "code",
   "execution_count": 2,
   "id": "d798e6dc-13a2-4d37-a35f-38c354417521",
   "metadata": {},
   "outputs": [
    {
     "name": "stderr",
     "output_type": "stream",
     "text": [
      "Matplotlib is building the font cache; this may take a moment.\n"
     ]
    }
   ],
   "source": [
    "import numpy as np\n",
    "import pandas as pd\n",
    "import matplotlib.pyplot as plt\n",
    "import seaborn as sns\n"
   ]
  },
  {
   "cell_type": "code",
   "execution_count": 3,
   "id": "147b8440-c38b-4bab-b03c-5105f702c0b9",
   "metadata": {},
   "outputs": [],
   "source": []
  },
  {
   "cell_type": "code",
   "execution_count": null,
   "id": "6d18ca1c-a781-48e1-b5e4-14a21e1dd88f",
   "metadata": {},
   "outputs": [],
   "source": []
  }
 ],
 "metadata": {
  "kernelspec": {
   "display_name": "Python 3",
   "language": "python",
   "name": "python3"
  },
  "language_info": {
   "codemirror_mode": {
    "name": "ipython",
    "version": 3
   },
   "file_extension": ".py",
   "mimetype": "text/x-python",
   "name": "python",
   "nbconvert_exporter": "python",
   "pygments_lexer": "ipython3",
   "version": "3.8.8"
  }
 },
 "nbformat": 4,
 "nbformat_minor": 5
}
